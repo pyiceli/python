{
 "cells": [
  {
   "cell_type": "markdown",
   "metadata": {},
   "source": [
    "# 调试技术\n",
    "- 调试流程： 单元测试-->集成测试-->交测试部\n",
    "- 分类：\n",
    "    - 静态调试：\n",
    "    - 动态调试：\n",
    " "
   ]
  },
  {
   "cell_type": "markdown",
   "metadata": {},
   "source": [
    "# pdb调试\n",
    "- 命令行调试，现基本不使用"
   ]
  },
  {
   "cell_type": "markdown",
   "metadata": {},
   "source": [
    "# pycharm调试\n",
    "- run/debug模式\n",
    "- 案例p01.py\n",
    "- 断点： 程序的某一行，程序在debug模式下，遇到断点就会暂停"
   ]
  },
  {
   "cell_type": "markdown",
   "metadata": {},
   "source": [
    "# 单元测试\n",
    "- 官方测试文档集合： https://wiki.python.org/moin/PythonTestingToolsTaxonomy\n",
    "- 测试案例：只涉及PyUnit\n",
    "https://blog.csdn.net/a542551042/article/details/46696635\n",
    "- PyUnit:\n",
    "https://wiki.python.org/moin/PyUnit\n",
    "- PyUnit测试案例2：\n",
    "https://www.jb51.net/article/64119.htm\n"
   ]
  },
  {
   "cell_type": "code",
   "execution_count": null,
   "metadata": {},
   "outputs": [],
   "source": []
  }
 ],
 "metadata": {
  "kernelspec": {
   "display_name": "Python 3",
   "language": "python",
   "name": "python3"
  },
  "language_info": {
   "codemirror_mode": {
    "name": "ipython",
    "version": 3
   },
   "file_extension": ".py",
   "mimetype": "text/x-python",
   "name": "python",
   "nbconvert_exporter": "python",
   "pygments_lexer": "ipython3",
   "version": "3.7.1"
  }
 },
 "nbformat": 4,
 "nbformat_minor": 2
}
