{
 "cells": [
  {
   "cell_type": "code",
   "execution_count": 1,
   "metadata": {},
   "outputs": [
    {
     "name": "stdout",
     "output_type": "stream",
     "text": [
      "['False', 'None', 'True', 'and', 'as', 'assert', 'async', 'await', 'break', 'class', 'continue', 'def', 'del', 'elif', 'else', 'except', 'finally', 'for', 'from', 'global', 'if', 'import', 'in', 'is', 'lambda', 'nonlocal', 'not', 'or', 'pass', 'raise', 'return', 'try', 'while', 'with', 'yield']\n"
     ]
    }
   ],
   "source": [
    "# 查看关键字的方法\n",
    "import keyword   #引入关键字模块\n",
    "print(keyword.kwlist)   # 打印出系统全部关键字"
   ]
  },
  {
   "cell_type": "markdown",
   "metadata": {},
   "source": [
    "套件推荐 Anaconda3+pycharm\n",
    "如果机器内存大于4G，推荐虚拟机下启动系统\n",
    "小于4G的话，推荐用Windows下的 Anaconda+pycharm\n"
   ]
  },
  {
   "cell_type": "markdown",
   "metadata": {},
   "source": [
    "###f浮点数\n",
    "- 小数\n",
    "- 计算机里面表示浮点数可以有条件省略\n",
    "- 3.1415\n",
    "- 3.\n",
    "- 0.\n",
    "- 科学计数法\n",
    "    - 定义跟数学定义一样\n",
    "    - 写法用E/e 后面跟整数表示10的指数\n",
    "    - 176.23 == 1.7634e2\n",
    "    - 0.876 == 8.76e-1"
   ]
  },
  {
   "cell_type": "code",
   "execution_count": 4,
   "metadata": {},
   "outputs": [
    {
     "name": "stdout",
     "output_type": "stream",
     "text": [
      "156.34\n",
      "0.2\n",
      "0.6\n"
     ]
    }
   ],
   "source": [
    "height = 156.34\n",
    "print(height)\n",
    "\n",
    "shili = 0.2\n",
    "print(shili)\n",
    "\n",
    "shili = .6\n",
    "print(shili)"
   ]
  },
  {
   "cell_type": "markdown",
   "metadata": {},
   "source": [
    "###复数\n",
    "- 定义同数学定义一样\n",
    "- 一个由实部和虚部构成的数字\n",
    "- 5+3j\n",
    "- 3j\n",
    "-  (3j)\n"
   ]
  },
  {
   "cell_type": "markdown",
   "metadata": {},
   "source": [
    "###布尔值\n",
    "- 表示真假的值\n",
    "- 只有两个值 True/False(1/0)\n",
    "- 布尔值可以跟数字直接操作"
   ]
  },
  {
   "cell_type": "code",
   "execution_count": 7,
   "metadata": {},
   "outputs": [
    {
     "name": "stdout",
     "output_type": "stream",
     "text": [
      "19\n"
     ]
    }
   ],
   "source": [
    "#布尔值操作\n",
    "age = 18 + True\n",
    "print(age)"
   ]
  },
  {
   "cell_type": "markdown",
   "metadata": {},
   "source": [
    "# 字符串\n",
    "- 用来表示一串文字信息\n",
    "- 如何表示\n",
    "    - 单引号\n",
    "    - 双引号\n",
    "    - 三重引号（三个单引号或三个双引号）\n",
    "        - 能够括起多行信息\n",
    "-单双引号交错使用 "
   ]
  },
  {
   "cell_type": "code",
   "execution_count": 18,
   "metadata": {},
   "outputs": [
    {
     "name": "stdout",
     "output_type": "stream",
     "text": [
      "I love wangmeili\n",
      "我爱王美丽\n",
      "<a style=\"color:red\">哈哈哈</a>\n",
      "\n",
      "I love yueyueyeuyue\n",
      "我爱月月月月月月\n",
      "\n",
      "\n"
     ]
    }
   ],
   "source": [
    "love = \"I love wangmeili\"\n",
    "print(love)\n",
    "\n",
    "love = '我爱王美丽'\n",
    "print(love)\n",
    "\n",
    "# 单双引号交错使用的例子\n",
    "# <a style=\"color:red\">哈哈哈</a>\n",
    "html = '<a style=\"color:red\">哈哈哈</a>'\n",
    "print(html)\n",
    "\n",
    "htmls = \"\"\"\n",
    "I love yueyueyeuyue\n",
    "我爱月月月月月月\n",
    "\n",
    "\"\"\"\n",
    "print(htmls)"
   ]
  }
 ],
 "metadata": {
  "kernelspec": {
   "display_name": "Python 3",
   "language": "python",
   "name": "python3"
  },
  "language_info": {
   "codemirror_mode": {
    "name": "ipython",
    "version": 3
   },
   "file_extension": ".py",
   "mimetype": "text/x-python",
   "name": "python",
   "nbconvert_exporter": "python",
   "pygments_lexer": "ipython3",
   "version": "3.7.1"
  }
 },
 "nbformat": 4,
 "nbformat_minor": 2
}
