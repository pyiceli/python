{
 "cells": [
  {
   "cell_type": "code",
   "execution_count": 4,
   "metadata": {},
   "outputs": [
    {
     "name": "stdout",
     "output_type": "stream",
     "text": [
      "hai,my name is ICE LI\n",
      "hai,my name is YUEYUE\n"
     ]
    }
   ],
   "source": [
    "# 属性案例\n",
    "# 创建student类，描述学生类\n",
    "# 学生具有student、name属性，但name格式并不统一\n",
    "class Student():\n",
    "    def __init__(self,name,age):\n",
    "        self.name = name\n",
    "        self.age = age\n",
    "     \n",
    "        # 如果不想修改代码\n",
    "        self.setName(name)\n",
    "        \n",
    "    # 介绍下自己\n",
    "    def intro(self):\n",
    "        print(\"hai,my name is {0}\".format(self.name))\n",
    "      \n",
    "    def setName(self,name):\n",
    "        self.name = name.upper()\n",
    "        \n",
    "s1 = Student(\"ICE Li\",25)\n",
    "s2 = Student(\"yueyue\",24)\n",
    "\n",
    "s1.intro()\n",
    "s2.intro()"
   ]
  },
  {
   "cell_type": "code",
   "execution_count": 19,
   "metadata": {},
   "outputs": [],
   "source": [
    "# property案例\n",
    "# 定义一个Person类，具有name,age属性\n",
    "# 对于任意输入的姓名，要用大写方式保存\n",
    "# 对于年龄，内部统一用整数保存\n",
    "\n",
    "class Person():\n",
    "    \"\"\"\n",
    "    这是这个类的说明文档\n",
    "    \"\"\"\n",
    "    # 函数名称可以任意\n",
    "    def fget(self):\n",
    "        return self._name *2\n",
    "         \n",
    "    def fset(self,name):\n",
    "        # 所有输入的姓名以大写方式保存\n",
    "        self._name = name.upper()\n",
    "              \n",
    "    def fdel(self):\n",
    "        self._name = \"NoName\"\n",
    "        \n",
    "    name = property(fget,fset,fdel,\"对name进行操作\")"
   ]
  },
  {
   "cell_type": "code",
   "execution_count": 7,
   "metadata": {},
   "outputs": [
    {
     "name": "stdout",
     "output_type": "stream",
     "text": [
      "TULINGTULING\n"
     ]
    }
   ],
   "source": [
    "p1 = Person()\n",
    "p1.name = \"tuling\"\n",
    "print(p1.name)"
   ]
  },
  {
   "cell_type": "code",
   "execution_count": 22,
   "metadata": {},
   "outputs": [
    {
     "name": "stdout",
     "output_type": "stream",
     "text": [
      "{'__module__': '__main__', '__doc__': '\\n    这是这个类的说明文档\\n    ', 'fget': <function Person.fget at 0x000001CA72D1AD90>, 'fset': <function Person.fset at 0x000001CA72D1A9D8>, 'fdel': <function Person.fdel at 0x000001CA72C76EA0>, 'name': <property object at 0x000001CA72D400E8>, '__dict__': <attribute '__dict__' of 'Person' objects>, '__weakref__': <attribute '__weakref__' of 'Person' objects>}\n",
      "\n",
      "    这是这个类的说明文档\n",
      "    \n",
      "Person\n",
      "(<class 'object'>,)\n"
     ]
    }
   ],
   "source": [
    "# 类的内置属性\n",
    "print(Person.__dict__)\n",
    "print(Person.__doc__)\n",
    "print(Person.__name__)\n",
    "print(Person.__bases__)"
   ]
  },
  {
   "cell_type": "code",
   "execution_count": 24,
   "metadata": {},
   "outputs": [
    {
     "name": "stdout",
     "output_type": "stream",
     "text": [
      "我会被调用\n"
     ]
    }
   ],
   "source": [
    "# __init__ 案例\n",
    "class A():\n",
    "    def __init__(self,name = 0):\n",
    "        print(\"我会被调用\")\n",
    " \n",
    "# 调用初始化函数 __init__\n",
    "a = A()"
   ]
  },
  {
   "cell_type": "code",
   "execution_count": 28,
   "metadata": {},
   "outputs": [
    {
     "name": "stdout",
     "output_type": "stream",
     "text": [
      "我会被调用\n",
      "我会再被调用一次\n"
     ]
    }
   ],
   "source": [
    "# __call__ 例子\n",
    "class A():\n",
    "    def __init__(self,name = 0):\n",
    "        print(\"我会被调用\")\n",
    "        \n",
    "    def __call__(self):\n",
    "        print(\"我会再被调用一次\")\n",
    "        \n",
    "a = A()\n",
    "# 对象(实例化的)当做函数使用的时候，调用__call__\n",
    "a()"
   ]
  },
  {
   "cell_type": "code",
   "execution_count": 31,
   "metadata": {},
   "outputs": [
    {
     "name": "stdout",
     "output_type": "stream",
     "text": [
      "我会被调用\n",
      "图灵学院\n"
     ]
    }
   ],
   "source": [
    "# __str__ 例子\n",
    "class A():\n",
    "    def __init__(self,name = 0):\n",
    "        print(\"我会被调用\")\n",
    "        \n",
    "    def __call__(self):\n",
    "        print(\"我会再被调用一次\")\n",
    "        \n",
    "    def __str__(self):\n",
    "        return \"图灵学院\"\n",
    "        \n",
    "a = A()\n",
    "print(a)"
   ]
  },
  {
   "cell_type": "code",
   "execution_count": 36,
   "metadata": {},
   "outputs": [
    {
     "name": "stdout",
     "output_type": "stream",
     "text": [
      "NoName\n",
      "没找到哦\n",
      "None\n"
     ]
    }
   ],
   "source": [
    "# __getattr__\n",
    "class A():\n",
    "    name = \"NoName\"\n",
    "    age = 18\n",
    "    def __getattr__(self,name):\n",
    "        print(\"没找到哦\")\n",
    "        \n",
    "a =A()\n",
    "print(a.name)\n",
    "\n",
    "# 访问不存在的属性时调用__getattr__\n",
    "print(a.attr)\n",
    "\n",
    "# 为何打印 None"
   ]
  },
  {
   "cell_type": "code",
   "execution_count": 1,
   "metadata": {},
   "outputs": [
    {
     "name": "stdout",
     "output_type": "stream",
     "text": [
      "{}\n",
      "设置属性：age\n"
     ]
    }
   ],
   "source": [
    "# __setattr__ 例子\n",
    "class Person():\n",
    "    def __init__(self):\n",
    "        pass\n",
    "    def __setattr__(self,name,value):\n",
    "        print(\"设置属性：{0}\".format(name))\n",
    "        # 下面语句会导致死循环\n",
    "        # self.name = value\n",
    "        # 为避免死循环，规定统一调用父类魔法函数\n",
    "        super().__setattr__(name,value)\n",
    "        \n",
    "p = Person()\n",
    "print(p.__dict__)\n",
    "p.age = 18"
   ]
  },
  {
   "cell_type": "code",
   "execution_count": 3,
   "metadata": {},
   "outputs": [
    {
     "name": "stdout",
     "output_type": "stream",
     "text": [
      "<__main__.Student object at 0x000001A1BDCB8A20>会比<__main__.Student object at 0x000001A1BDCB8240>大吗？\n",
      "False\n"
     ]
    }
   ],
   "source": [
    "# __gt__\n",
    "class Student():\n",
    "    def __init__(self,name):\n",
    "        self._name = name\n",
    "    \n",
    "    def __gt__(self,obj):\n",
    "        print(\"{0}会比{1}大吗？\".format(self,obj))\n",
    "        return self._name > obj._name\n",
    "    \n",
    "stu1 = Student(\"one\")\n",
    "stu2 = Student(\"two\")\n",
    "print(stu1 > stu2)\n",
    "\n",
    "# 下面显示结果不太美观，能否改成形如  \"one 会比 two 大吗？\""
   ]
  },
  {
   "cell_type": "code",
   "execution_count": 11,
   "metadata": {
    "scrolled": true
   },
   "outputs": [
    {
     "name": "stdout",
     "output_type": "stream",
     "text": [
      "<__main__.Person object at 0x000001A1BDD3FE80>\n",
      "eating......\n",
      "<class '__main__.Person'>\n",
      "playing......\n",
      "<class '__main__.Person'>\n",
      "playing......\n",
      "saying\n",
      "saying\n"
     ]
    }
   ],
   "source": [
    "# 三种方法例子\n",
    "class Person():\n",
    "    # 实例方法\n",
    "    def eat(self):\n",
    "        print(self)\n",
    "        print(\"eating......\")\n",
    "        \n",
    "    # 类方法 \n",
    "    # 类方法的第一个参数，一般命名为cls，区别于self\n",
    "    @classmethod\n",
    "    def play(cls):\n",
    "        print(cls)\n",
    "        print(\"playing......\")\n",
    "        \n",
    "    # 静态方法 \n",
    "    # 不需要用第一个参数表示自身或者类\n",
    "    @staticmethod\n",
    "    def say():\n",
    "        print(\"saying\")\n",
    "        \n",
    "yueyue = Person()\n",
    "\n",
    "# 实例方法\n",
    "yueyue.eat()\n",
    "\n",
    "# 类方法\n",
    "Person.play()\n",
    "yueyue.play()\n",
    "\n",
    "# 静态方法\n",
    "Person.say()\n",
    "yueyue.say()\n",
    "\n",
    "# 三种方法内存使用方面的区别"
   ]
  },
  {
   "cell_type": "code",
   "execution_count": null,
   "metadata": {},
   "outputs": [],
   "source": []
  }
 ],
 "metadata": {
  "kernelspec": {
   "display_name": "Python 3",
   "language": "python",
   "name": "python3"
  },
  "language_info": {
   "codemirror_mode": {
    "name": "ipython",
    "version": 3
   },
   "file_extension": ".py",
   "mimetype": "text/x-python",
   "name": "python",
   "nbconvert_exporter": "python",
   "pygments_lexer": "ipython3",
   "version": "3.7.1"
  }
 },
 "nbformat": 4,
 "nbformat_minor": 2
}
