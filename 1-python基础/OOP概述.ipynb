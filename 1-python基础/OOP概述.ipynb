{
 "cells": [
  {
   "cell_type": "markdown",
   "metadata": {},
   "source": [
    "OOP-python面向对象\n",
    "- python的面向对象\n",
    "- 面向对象编程\n",
    "    - 基础\n",
    "    - 公共私有\n",
    "    - 继承\n",
    "    - 组合，Mixin\n",
    "- 魔法函数\n",
    "    - 魔法函数概述\n",
    "    - 构造类魔法函数\n",
    "    - 运算类魔法函数"
   ]
  },
  {
   "cell_type": "markdown",
   "metadata": {},
   "source": [
    "# 1.面向对象概述（ObjectOriented）\n",
    "- OOP思想\n",
    "    - 接触到任何一个任务，首先想到的是任务这个世界的构成，是有模型构成的\n",
    "- 常见名词\n",
    "    - OO：面向对象\n",
    "    - OOA：面向对象的分析\n",
    "    - OOD：面向对象的设计\n",
    "    - OOI：面向对象的实现\n",
    "    - OOP：面向对象的编程\n",
    "    - OOA-OOD-OOI:面向对象的实现过程\n",
    "- 类和对象的概念\n",
    "    - 类：抽象名词，代表一个集合，共性的事物\n",
    "    - 对象：具象的事物，单个个体\n",
    "    - 类与对象的关系：\n",
    "        - 一个具象，代表一类事物中的某一个个体\n",
    "        - 一个是抽象的，代表的是一大类事物\n",
    "- 类中的内容，应该具有两个内容\n",
    "    - 表明事物的特征，叫做属性（变量）\n",
    "    - 表明事物功能或动作，称为成员方法（函数）"
   ]
  },
  {
   "cell_type": "markdown",
   "metadata": {},
   "source": [
    "# 2.类的基本实现\n",
    "- 类的命名\n",
    "    - 遵守变量命名的规范\n",
    "    - 大驼峰（由一个或者多个单词构成，每个单词首字母大写，单词跟单词直接相连）\n",
    "    - 尽量避开跟系统命名相似的命名\n",
    "- 如何声明一个类\n",
    "    - 必须用class关键字\n",
    "    - 类由属性和方法构成，其他不允许出现\n",
    "    - 成员属性定义可以直接使用变量赋值，如果没有值，许使用None\n",
    "    - 案例1\n",
    "- 实例化类\n",
    "        变量 = 类名() # 实例化了一个对象\n",
    "- 访问对象成员\n",
    "    - 使用点操作符\n",
    "        \n",
    "        obj.成员属性名称\n",
    "        obj.成员方法\n",
    "        \n",
    "- 可以通过默认内置变量检查类和对象的所有成员\n",
    "    - 对象所有成员检查\n",
    "        #dict前后各有两个下划线\n",
    "        obj.__dict__ \n",
    "- 类所有的成员\n",
    "        #dict前后各有两个下划线\n",
    "        class_name.__dict__"
   ]
  },
  {
   "cell_type": "markdown",
   "metadata": {},
   "source": [
    "# 3. anaconda基本使用\n",
    "- anaconda主要是一个虚拟环境管理器\n",
    "- 还是一个安装包管理器\n",
    "- conda list： 显示anaconda安装的包\n",
    "- conda env list:显示anaconda的虚拟环境列表\n",
    "- conda create -n xxx python=3.6: 创建python版本为3.6的虚拟环境，名称为xxx"
   ]
  },
  {
   "cell_type": "code",
   "execution_count": 3,
   "metadata": {},
   "outputs": [
    {
     "data": {
      "text/plain": [
       "{}"
      ]
     },
     "execution_count": 3,
     "metadata": {},
     "output_type": "execute_result"
    }
   ],
   "source": [
    "class Student():\n",
    "    name = None\n",
    "    age = 18\n",
    "    \n",
    "Student.__dict__\n",
    "\n",
    "# 实例化\n",
    "yueyue = Student()\n",
    "yueyue.__dict__"
   ]
  },
  {
   "cell_type": "markdown",
   "metadata": {},
   "source": [
    "# 4.类和对象的成员分析\n",
    "- 类和对象都可以存储成员，成员可以归类所有，也可以归对象所有\n",
    "- 类存储成员是使用的是与类关联的一个对象\n",
    "- 独享存储成员是存储在当前对象中\n",
    "- 对象访问一个成员时，如果对象中没有该成员，尝试访问类中的同名成员， 如果对象中有此成员，一定使用对象中的成员\n",
    "- 创建对象的时候，类中的成员不会放入对象当中，而是得到一个空对象，没有成员\n",
    "- 通过对象对类中成员重新赋值或者通过对象添加成员时，对应成员会保存在对象中，而不会修改类成员"
   ]
  },
  {
   "cell_type": "code",
   "execution_count": 5,
   "metadata": {},
   "outputs": [
    {
     "name": "stdout",
     "output_type": "stream",
     "text": [
      "dana\n",
      "18\n",
      "********************\n",
      "1386394997064\n",
      "140723582186864\n",
      "********************\n",
      "dana\n",
      "18\n",
      "1386394997064\n",
      "140723582186864\n"
     ]
    }
   ],
   "source": [
    "class A():\n",
    "    name = \"dana\"\n",
    "    age = 18\n",
    "    \n",
    "    # 注意say的写法，参数有一个self\n",
    "    def say(self):\n",
    "        self.name = \"None\"\n",
    "        self.age = 20\n",
    "\n",
    "# 此时，A称为类实例\n",
    "print(A.name)\n",
    "print(A.age)\n",
    "\n",
    "print(\"*\"* 20)\n",
    "\n",
    "# 用id鉴别两个变量是否为同一变量\n",
    "print(id(A.name))\n",
    "print(id(A.age))\n",
    "\n",
    "print(\"*\"* 20)\n",
    "a = A()\n",
    "\n",
    "print(a.name)\n",
    "print(a.age)\n",
    "print(id(a.name))\n",
    "print(id(a.age))"
   ]
  },
  {
   "cell_type": "markdown",
   "metadata": {},
   "source": [
    "上述案例说明\n",
    "- 类实例的属性和其对象的实例的属性在不对 对象实例属性赋值的前提前，指向同一个变量"
   ]
  },
  {
   "cell_type": "code",
   "execution_count": 6,
   "metadata": {},
   "outputs": [
    {
     "name": "stdout",
     "output_type": "stream",
     "text": [
      "dana\n",
      "18\n",
      "********************\n",
      "1386394997064\n",
      "140723582186864\n",
      "********************\n",
      "yueyue\n",
      "16\n",
      "1386394998016\n",
      "140723582186800\n"
     ]
    }
   ],
   "source": [
    "print(A.name)\n",
    "print(A.age)\n",
    "\n",
    "print(\"*\"* 20)\n",
    "\n",
    "# 用id鉴别两个变量是否为同一变量\n",
    "print(id(A.name))\n",
    "print(id(A.age))\n",
    "\n",
    "print(\"*\"* 20)\n",
    "a = A()\n",
    "a.name = \"yueyue\"\n",
    "a.age = 16\n",
    "\n",
    "print(a.name)\n",
    "print(a.age)\n",
    "print(id(a.name))\n",
    "print(id(a.age))"
   ]
  },
  {
   "cell_type": "markdown",
   "metadata": {},
   "source": [
    "# 5.关于self\n",
    "- self在对象的方法中表示当前对象本身，如果通过对象调用一个方法，那么该对象会自动传入到当前方法 的第一个参数中\n",
    "- self并不是关键字，只是一个用于接受对象的普通参数，理论上可以用任何一个普通变量名代替\n",
    "- 方法中有self形参的方法成为非绑定类的方法，可以通过对象访问， 没有self的是绑定类的方法， 只能通过类访问\n",
    "- 使用类访问绑定类的方法时， 如果类方法中需要访问当前类的成员，可以通过 __class__成员名来访问"
   ]
  },
  {
   "cell_type": "code",
   "execution_count": 7,
   "metadata": {},
   "outputs": [
    {
     "name": "stdout",
     "output_type": "stream",
     "text": [
      "my name is None\n",
      "my age is 20\n"
     ]
    }
   ],
   "source": [
    "class Student():\n",
    "    name = \"dana\"\n",
    "    age = 18\n",
    "    \n",
    "    # 注意say的写法，参数有一个self\n",
    "    def say(self):\n",
    "        self.name = \"None\"\n",
    "        self.age = 20\n",
    "        print(\"my name is {0}\".format(self.name))\n",
    "        print(\"my age is {0}\".format(self.age))\n",
    "        \n",
    "yueyue = Student()\n",
    "yueyue.say()"
   ]
  },
  {
   "cell_type": "code",
   "execution_count": 11,
   "metadata": {},
   "outputs": [
    {
     "name": "stdout",
     "output_type": "stream",
     "text": [
      "my name is None\n",
      "my age is 30\n",
      "dana\n",
      "30\n",
      "Hello,nice to meet you\n"
     ]
    }
   ],
   "source": [
    "class Teacher():\n",
    "    name = \"dana\"\n",
    "    age = 30\n",
    "    \n",
    "    def say(self):\n",
    "        self.name = \"None\"\n",
    "        self.age = 20\n",
    "        print(\"my name is {0}\".format(self.name))\n",
    "        # 调用类的成员变量需要用__class__\n",
    "        print(\"my age is {0}\".format(__class__.age))\n",
    "        \n",
    "    def Sayagain():\n",
    "        print(__class__.name)\n",
    "        print(__class__.age)\n",
    "        print(\"Hello,nice to meet you\")\n",
    "        \n",
    "t = Teacher()\n",
    "t.say()\n",
    "# 调用绑定类函数使用类名\n",
    "Teacher.Sayagain()"
   ]
  },
  {
   "cell_type": "code",
   "execution_count": 15,
   "metadata": {},
   "outputs": [
    {
     "name": "stdout",
     "output_type": "stream",
     "text": [
      "aaa\n",
      "20\n",
      "aaa\n",
      "20\n",
      "iceli\n",
      "18\n",
      "bbb\n",
      "30\n"
     ]
    }
   ],
   "source": [
    "# 关于self的案例\n",
    "class A():\n",
    "    name = \"iceli\"\n",
    "    age = 18\n",
    "        \n",
    "    def __init__(self):\n",
    "        self.name = \"aaa\"\n",
    "        self.age = 20\n",
    "            \n",
    "    def say(self):\n",
    "        print(self.name)\n",
    "        print(self.age)\n",
    "                \n",
    "class B():\n",
    "    name = \"bbb\"\n",
    "    age = 30\n",
    "    \n",
    "a = A()\n",
    "# 系统默认把a作为第一个参数传入函数\n",
    "a.say()\n",
    "\n",
    "# self被a替换\n",
    "A.say(a)\n",
    "# 同样可以把A作为参数传入\n",
    "A.say(A)\n",
    "\n",
    "# 此时，传入的是类实例B，因为B具有name和age属性，所以不会报错\n",
    "A.say(B)\n",
    "\n",
    "# 以上代码，利用了鸭子模型"
   ]
  },
  {
   "cell_type": "markdown",
   "metadata": {},
   "source": [
    "# 6.面向对象的三大特性\n",
    "- 封装\n",
    "- 继承\n",
    "- 多态"
   ]
  },
  {
   "cell_type": "markdown",
   "metadata": {},
   "source": [
    "## 6.1封装\n",
    "- 封装就是对对象的成员进行访问限制\n",
    "- 封装的三个级别\n",
    "    - 公开 public\n",
    "    - 受保护的 protected\n",
    "    - 私有的 private\n",
    "    - public protected private不是关键字\n",
    "- 判别对象的位置\n",
    "    - 对象内部\n",
    "    - 对象外部\n",
    "    - 子类中\n",
    "- python下划线使用：https://blog.csdn.net/handsomekang/article/details/40303207\n",
    "- 私有\n",
    "    - 私有成员是最高级别的封装，只能在当前类或对象中访问\n",
    "    - 在成员前面添加两个下划线即可\n",
    "        class Person():\n",
    "            # name是共有的成员\n",
    "            name = \"lceli\"\n",
    "            # __age就是私有成员\n",
    "            __age = 18\n",
    "    - python的私有不是真的私有，是一种称为name mangling的改名策略，可以使用对象._classname_attributename访问\n",
    "- 受保护的封装 protected\n",
    "    - 受保护的封装是将对象成员进行一定级别的封装，然后，在类中或者子类中都可以进行访问，但是在外部不可以\n",
    "    - 封装方法： 在成员名称前添加一个下划线即可\n",
    "- 公开的，公共的 public\n",
    "    - 公共的封装实际对成员没有任何操作，任何地方都可以访问"
   ]
  },
  {
   "cell_type": "code",
   "execution_count": 17,
   "metadata": {},
   "outputs": [
    {
     "name": "stdout",
     "output_type": "stream",
     "text": [
      "lceli\n"
     ]
    },
    {
     "ename": "AttributeError",
     "evalue": "'Person' object has no attribute '__age'",
     "output_type": "error",
     "traceback": [
      "\u001b[1;31m---------------------------------------------------------------------------\u001b[0m",
      "\u001b[1;31mAttributeError\u001b[0m                            Traceback (most recent call last)",
      "\u001b[1;32m<ipython-input-17-b5a2c47a5a53>\u001b[0m in \u001b[0;36m<module>\u001b[1;34m\u001b[0m\n\u001b[0;32m     10\u001b[0m \u001b[0mprint\u001b[0m\u001b[1;33m(\u001b[0m\u001b[0mp\u001b[0m\u001b[1;33m.\u001b[0m\u001b[0mname\u001b[0m\u001b[1;33m)\u001b[0m\u001b[1;33m\u001b[0m\u001b[1;33m\u001b[0m\u001b[0m\n\u001b[0;32m     11\u001b[0m \u001b[1;31m# __age是私有变量\u001b[0m\u001b[1;33m\u001b[0m\u001b[1;33m\u001b[0m\u001b[1;33m\u001b[0m\u001b[0m\n\u001b[1;32m---> 12\u001b[1;33m \u001b[0mprint\u001b[0m\u001b[1;33m(\u001b[0m\u001b[0mp\u001b[0m\u001b[1;33m.\u001b[0m\u001b[0m__age\u001b[0m\u001b[1;33m)\u001b[0m\u001b[1;33m\u001b[0m\u001b[1;33m\u001b[0m\u001b[0m\n\u001b[0m",
      "\u001b[1;31mAttributeError\u001b[0m: 'Person' object has no attribute '__age'"
     ]
    }
   ],
   "source": [
    "# 公有与私有\n",
    "class Person():\n",
    "            # name是共有的成员\n",
    "            name = \"lceli\"\n",
    "            # __age就是私有成员\n",
    "            __age = 18\n",
    "            \n",
    "p = Person()\n",
    "# name是公有变量\n",
    "print(p.name)\n",
    "# __age是私有变量\n",
    "print(p.__age)"
   ]
  },
  {
   "cell_type": "code",
   "execution_count": 19,
   "metadata": {},
   "outputs": [
    {
     "name": "stdout",
     "output_type": "stream",
     "text": [
      "{'__module__': '__main__', 'name': 'lceli', '_Person__age': 18, '__dict__': <attribute '__dict__' of 'Person' objects>, '__weakref__': <attribute '__weakref__' of 'Person' objects>, '__doc__': None}\n",
      "19\n"
     ]
    }
   ],
   "source": [
    "# name mangling 技术\n",
    "print(Person.__dict__)\n",
    "\n",
    "p._Person__age = 19\n",
    "print(p._Person__age)"
   ]
  },
  {
   "cell_type": "markdown",
   "metadata": {},
   "source": [
    "# 6.2 继承\n",
    "- 继承就是一个类可以获得另一个类中的成员的属性和成员方法\n",
    "- 作用： 减少代码，增加代码的复用功能，同时可以设置类与类直接的关系\n",
    "- 继承与被继承的概念：\n",
    "    - 被继承的类交父类，也叫基类，也叫超类\n",
    "    - 用于继承的类，交子类，也叫派生类\n",
    "    - 继承与被继承一定存在一个 is-a 关系\n",
    "\n",
    "- 继承的语法，参见 继承.ipynb\n",
    "\n",
    "- 继承的特征 \n",
    "    - 所有的类都继承自object类，即所有的类都是object类的子类\n",
    "    - 子类一旦继承父类，则可以使用父类中除私有成员外的所有内容\n",
    "    - 子类继承父类后，并没有将父类成员完全赋值到子类中，而是通过引用关系访问调用\n",
    "    - 子类中可以定义独有的成员属性和方法\n",
    "    - 子类中定义的成员和父类成员如果相同，则优先使用子类成员\n",
    "    - 子类如果想扩充父类的方法，可以在定义新方法的同时访问父类成员来进行代码重用，可以使用 [父类名.父类成员] 的格式来调用父类成员，也可以使用super().父类成员的格式来调用\n",
    "    \n",
    "- 继承变量函数的查找顺序问题\n",
    "    - 优先查找自己的变量\n",
    "    - 没有则查找父类\n",
    "    - 构造函数如果本类中没有定义，则自动查找调用父类构造函数\n",
    "    - 如果本类有定义，则不在继续向上查找\n",
    "    \n",
    "- 构造函数\n",
    "    - 是一类特殊的函数，在类进行实例化之前进行调用\n",
    "    - 如果定义了构造函数，则实例化时使用构造函数，不查找父类构造函数\n",
    "    - 如果没定义，则自动查找父类构造函数\n",
    "    - 如果子类没定义，父类的构造函数带参数，则构造对象时的参数应该按父类参数构造\n",
    "    \n",
    "- super\n",
    "    - super不是关键字，而是一个类\n",
    "    - super的作用是获取MRO(MethodResolutionOrder)列表中的第一个类\n",
    "    - super与父类没有任何实质性关系，但通过super可以调用到父类\n",
    "    - super使用方法，参见构造函数中调用父类的构造函数\n",
    "    \n",
    "- 单继承和多继承\n",
    "    - 单继承： 每个类只能继承一个类\n",
    "    - 多继承： 每个类允许继承多个类\n",
    "    \n",
    "- 单继承与多继承的优缺点\n",
    "    - 单继承： \n",
    "        - 优点：传承有序、逻辑清晰、语法简单、隐患少\n",
    "        - 缺点：功能不能无限扩展，只能在当前唯一的继承链中扩展\n",
    "    - 多继承\n",
    "        - 优点：类的功能扩展方便\n",
    "        - 缺点：继承关系混乱\n",
    "        \n",
    "- 菱形继承/钻石继承问题\n",
    "    - 多个子类继承自同一个父类，这些子类由被同一个类继承，于是继承关系图形成一个菱形图谱\n",
    "    - 关于多继承的MRO\n",
    "        - MRO就是多继承中，用于保存继承顺序的一个列表\n",
    "        - python本身采用C3算法来对多继承的菱形继承进行计算的结果\n",
    "        - MRO列表的计算原则：\n",
    "            - 子类永远在父类前面\n",
    "            - 如果多个父类，则根据继承语法中括号内类的书写顺序存放\n",
    "            - 如果多个类继承了同一个父类，孙子类中只会选取继承语法括号中第一个父类的父类\n",
    "           \n",
    "- 构造函数\n",
    "    - 在对象进行实例化的时候，系统自动调用的一个函数叫构造函数，通常此函数用来对实例对象进行初始化，顾名\n",
    "    - 构造函数一定要有，如果没有，则自动向上查找，按照MRO顺序，直到找到为止"
   ]
  },
  {
   "cell_type": "markdown",
   "metadata": {},
   "source": [
    "# 6.3 多态\n",
    "- 多态就是同一个对象在不同情况下有不同的状态出现\n",
    "- 多态不是语法，是一种设计思想\n",
    "- 多态性，一种调用方式，不同的执行效果\n",
    "- 多态： 同一事物的多种形态，动物分为人类，狗类，猪类\n",
    "\n",
    "# Mixin设计模式\n",
    "    - 主要采用多继承方式对类的功能进行扩展\n",
    "    \n",
    "- 我们使用多继承语法来实现Mixin\n",
    "- 使用Mixin实现多继承的时候要非常小心\n",
    "    - 首先他必须表示某一单一的功能，而不是某个物品\n",
    "    - 职责必须单一，如果有多个功能，则写多个Mixin\n",
    "    - Mixin不能依赖于子类的实现\n",
    "    - 子类没有及时继承这个Mixin；类，也能照样工作，只是缺少某个功能\n",
    "- 优点\n",
    "    - 使用Mixin可以在不对类进行任何修改的情况下，扩充功能\n",
    "    - 可以方便的组织和维护不同功能组件的划分\n",
    "    - 可以根据需要任意调整功能类的组合\n",
    "    - 可以避免创建很多新的类，导致类的继承混乱"
   ]
  },
  {
   "cell_type": "markdown",
   "metadata": {},
   "source": [
    "# 7.类相关函数\n",
    "- issubclass:检测一个类是否是另一个类的子类\n",
    "- isinstance:检测一个对象是否是一个类的实例\n",
    "- hasattr:检测一个对象是否有成员xxx\n",
    "- getattr: get attribute\n",
    "- setattr: set attribute\n",
    "- delattr: delete attribute\n",
    "- dir: 获取对象的成员列表"
   ]
  },
  {
   "cell_type": "markdown",
   "metadata": {},
   "source": [
    "# 8.类的成员描述符（属性）\n",
    "- 类的成员描述符是为了在类中对类的成员属性进行相关操作而创建的一种方式\n",
    "    - get: 获取属性的操作\n",
    "    - set: 修改或者添加属性操作\n",
    "    - delete: 删除属性的操作\n",
    "- 如果想使用类的成员描述符，一般有三种方法\n",
    "    - 使用类实现描述器\n",
    "    - 使用属性修饰符\n",
    "    - 使用property函数\n",
    "        - property函数相比简单\n",
    "        - property(fget,fset,fdel,doc)\n",
    "        \n",
    "- 无论哪种修饰符都是为了对成员属性进行相应的控制\n",
    "    - 类的方式： 适合多个类中的多个属性共用一个描述符\n",
    "    - property：使用当前类中使用，可以控制一个类中多个属性\n",
    "    - 属性修饰符： 使用于当前类中使用，控制一个类中的一个属性\n",
    "    \n",
    " "
   ]
  },
  {
   "cell_type": "markdown",
   "metadata": {},
   "source": [
    "# 9.类的内置属性\n",
    "    __dict__:以字典的方式显示类的成员组成\n",
    "    __doc__: 获取类的文档信息\n",
    "    __name__:获取类的名称，如果在模块中使用，获取模块的名称\n",
    "    __bases__: 获取某个类的所有父类，以元组的方式显示"
   ]
  },
  {
   "cell_type": "markdown",
   "metadata": {},
   "source": [
    "# 10. 类的常用魔术方法\n",
    "- 魔术方法就是不需要人为调用的方法，基本是在特定环境自动触发\n",
    "- 魔术方法的统一特征，方法名被前后各两个下划线包裹\n",
    "    - __init__：构造函数\n",
    "    - __new__：对象实例化方法，此函数较特殊，一般不需要使用\n",
    "    - __call__：当对象被当做函数使用的时候调用\n",
    "    - __str__：当对象被当做字符串使用的时候调用\n",
    "    - __repr__：返回字符串，跟__str__有区别\n",
    "- 描述符相关\n",
    "    - __set__\n",
    "    - __get__\n",
    "    - __delete__\n",
    "- 属性操作相关\n",
    "    - __getattr__： 访问一个不存的属性时触发\n",
    "    - __setattr__： 对成员属性进行设置的时候触发\n",
    "        - 参数： \n",
    "            - self用于获取当前对象\n",
    "            - 被设置的属性名称，以字符串形式出现\n",
    "            - 需要对属性名称设置的值\n",
    "        - 作用：\n",
    "            - 进行属性设置的时候进行验证或者修改\n",
    "        - 注意：\n",
    "            - 在该方法中不能对属性直接进行赋值操作,否则会变死循环\n",
    "- 运算分类相关魔术方法\n",
    "    - __gt__：进行大于判断的时候触发的函数\n",
    "        - 参数：\n",
    "            - self\n",
    "            - 第二个参数是第二个对象\n",
    "            - 返回值可以是任意值，推荐返回布尔值\n",
    "            "
   ]
  },
  {
   "cell_type": "markdown",
   "metadata": {},
   "source": [
    "# 11. 类和对象的三种方法\n",
    "- 实例方法\n",
    "    - 需要实例化对象才能使用的方法，使用过程中可能需要借助对象的其他对象的方法完成\n",
    "- 静态方法\n",
    "    - 不需要实例化，通过类直接访问\n",
    "- 类方法\n",
    "    - 不需要实例化\n"
   ]
  },
  {
   "cell_type": "markdown",
   "metadata": {},
   "source": [
    "# 12.抽象类\n",
    "- 抽象方法：没有具体实现内容的方法称为抽象方法\n",
    "- 抽象方法的主要意义是规范了子类的行为和接口\n",
    "- 抽象类的使用需要借助abc模块\n",
    "    import abc\n",
    " \n",
    "- 抽象类：包含抽象方法的类叫抽象类，通常称为ABC类\n",
    "- 抽象类的使用\n",
    "    - 抽象类可以包含抽象方法，也可以包含具体方法\n",
    "    - 抽象类中可以有方法也可以有属性\n",
    "    - 抽象类不允许直接实例化\n",
    "    - 必须继承才可以使用，且继承的子类必须实现所有继承来的抽象方法\n",
    "    - 假定子类没有实现所有继承的抽象方法，则子类也不能实例化\n",
    "    - 抽象类的主要作用是设定类的标准，以便于开发的时候具有统一的规范\n",
    "    "
   ]
  },
  {
   "cell_type": "markdown",
   "metadata": {},
   "source": [
    "# 13. 自定义类\n",
    "- 类其实是一个类定义和各种方法的自由组合\n",
    "- 可以定义类的函数，然后自己通过类直接赋值\n",
    "- 可以借助于MethodType实现\n",
    "- 借助于type实现\n",
    "- 利用元类实现- MetaClass\n",
    "    - 元类是类\n",
    "    - 用于创造别的类"
   ]
  },
  {
   "cell_type": "code",
   "execution_count": null,
   "metadata": {},
   "outputs": [],
   "source": []
  }
 ],
 "metadata": {
  "kernelspec": {
   "display_name": "Python 3",
   "language": "python",
   "name": "python3"
  },
  "language_info": {
   "codemirror_mode": {
    "name": "ipython",
    "version": 3
   },
   "file_extension": ".py",
   "mimetype": "text/x-python",
   "name": "python",
   "nbconvert_exporter": "python",
   "pygments_lexer": "ipython3",
   "version": "3.7.1"
  }
 },
 "nbformat": 4,
 "nbformat_minor": 2
}
