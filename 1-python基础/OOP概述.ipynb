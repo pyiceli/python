{
 "cells": [
  {
   "cell_type": "markdown",
   "metadata": {},
   "source": [
    "OOP-python面向对象\n",
    "- python的面向对象\n",
    "- 面向对象编程\n",
    "    - 基础\n",
    "    - 公共私有\n",
    "    - 继承\n",
    "    - 组合，Mixin\n",
    "- 魔法函数\n",
    "    - 魔法函数概述\n",
    "    - 构造类魔法函数\n",
    "    - 运算类魔法函数"
   ]
  },
  {
   "cell_type": "markdown",
   "metadata": {},
   "source": [
    "# 1.面向对象概述（ObjectOriented）\n",
    "- OOP思想\n",
    "    - 接触到任何一个任务，首先想到的是任务这个世界的构成，是有模型构成的\n",
    "- 常见名词\n",
    "    - OO：面向对象\n",
    "    - OOA：面向对象的分析\n",
    "    - OOD：面向对象的设计\n",
    "    - OOI：面向对象的实现\n",
    "    - OOP：面向对象的编程\n",
    "    - OOA-OOD-OOI:面向对象的实现过程\n",
    "- 类和对象的概念\n",
    "    - 类：抽象名词，代表一个集合，共性的事物\n",
    "    - 对象：具象的事物，单个个体\n",
    "    - 类与对象的关系：\n",
    "        - 一个具象，代表一类事物中的某一个个体\n",
    "        - 一个是抽象的，代表的是一大类事物\n",
    "- 类中的内容，应该具有两个内容\n",
    "    - 表明事物的特征，叫做属性（变量）\n",
    "    - 表明事物功能或动作，称为成员方法（函数）"
   ]
  },
  {
   "cell_type": "markdown",
   "metadata": {},
   "source": [
    "# 2.类的基本实现\n",
    "- 类的命名\n",
    "    - 遵守变量命名的规范\n",
    "    - 大驼峰（由一个或者多个单词构成，每个单词首字母大写，单词跟单词直接相连）\n",
    "    - 尽量避开跟系统命名相似的命名\n",
    "- 如何声明一个类\n",
    "    - 必须用class关键字\n",
    "    - 类由属性和方法构成，其他不允许出现\n",
    "    - 成员属性定义可以直接使用变量赋值，如果没有值，许使用None\n",
    "    - 案例1\n",
    "- 实例化类\n",
    "        变量 = 类名() # 实例化了一个对象\n",
    "- 访问对象成员\n",
    "    - 使用点操作符\n",
    "        \n",
    "        obj.成员属性名称\n",
    "        obj.成员方法\n",
    "        \n",
    "- 可以通过默认内置变量检查类和对象的所有成员\n",
    "    - 对象所有成员检查\n",
    "        #dict前后各有两个下划线\n",
    "        obj.__dict__ \n",
    "- 类所有的成员\n",
    "        #dict前后各有两个下划线\n",
    "        class_name.__dict__"
   ]
  },
  {
   "cell_type": "markdown",
   "metadata": {},
   "source": [
    "# 3. anaconda基本使用\n",
    "- anaconda主要是一个虚拟环境管理器\n",
    "- 还是一个安装包管理器\n",
    "- conda list： 显示anaconda安装的包\n",
    "- conda env list:显示anaconda的虚拟环境列表\n",
    "- conda create -n xxx python=3.6: 创建python版本为3.6的虚拟环境，名称为xxx"
   ]
  }
 ],
 "metadata": {
  "kernelspec": {
   "display_name": "Python 3",
   "language": "python",
   "name": "python3"
  },
  "language_info": {
   "codemirror_mode": {
    "name": "ipython",
    "version": 3
   },
   "file_extension": ".py",
   "mimetype": "text/x-python",
   "name": "python",
   "nbconvert_exporter": "python",
   "pygments_lexer": "ipython3",
   "version": "3.7.1"
  }
 },
 "nbformat": 4,
 "nbformat_minor": 2
}
