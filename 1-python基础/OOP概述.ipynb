{
 "cells": [
  {
   "cell_type": "markdown",
   "metadata": {},
   "source": [
    "OOP-python面向对象\n",
    "- python的面向对象\n",
    "- 面向对象编程\n",
    "    - 基础\n",
    "    - 公共私有\n",
    "    - 继承\n",
    "    - 组合，Mixin\n",
    "- 魔法函数\n",
    "    - 魔法函数概述\n",
    "    - 构造类魔法函数\n",
    "    - 运算类魔法函数"
   ]
  },
  {
   "cell_type": "markdown",
   "metadata": {},
   "source": [
    "# 1.面向对象概述（ObjectOriented）\n",
    "- OOP思想\n",
    "    - 接触到任何一个任务，首先想到的是任务这个世界的构成，是有模型构成的\n",
    "- 常见名词\n",
    "    - OO：面向对象\n",
    "    - OOA：面向对象的分析\n",
    "    - OOD：面向对象的设计\n",
    "    - OOI：面向对象的实现\n",
    "    - OOP：面向对象的编程\n",
    "    - OOA-OOD-OOI:面向对象的实现过程\n",
    "- 类和对象的概念\n",
    "    - 类：抽象名词，代表一个集合，共性的事物\n",
    "    - 对象：具象的事物，单个个体\n",
    "    - 类与对象的关系：\n",
    "        - 一个具象，代表一类事物中的某一个个体\n",
    "        - 一个是抽象的，代表的是一大类事物\n",
    "- 类中的内容，应该具有两个内容\n",
    "    - 表明事物的特征，叫做属性（变量）\n",
    "    - 表明事物功能或动作，称为成员方法（函数）"
   ]
  },
  {
   "cell_type": "markdown",
   "metadata": {},
   "source": [
    "# 2.类的基本实现\n",
    "- 类的命名\n",
    "    - 遵守变量命名的规范\n",
    "    - 大驼峰（由一个或者多个单词构成，每个单词首字母大写，单词跟单词直接相连）\n",
    "    - 尽量避开跟系统命名相似的命名\n",
    "- 如何声明一个类\n",
    "    - 必须用class关键字\n",
    "    - 类由属性和方法构成，其他不允许出现\n",
    "    - 成员属性定义可以直接使用变量赋值，如果没有值，许使用None\n",
    "    - 案例1\n",
    "- 实例化类\n",
    "        变量 = 类名() # 实例化了一个对象\n",
    "- 访问对象成员\n",
    "    - 使用点操作符\n",
    "        \n",
    "        obj.成员属性名称\n",
    "        obj.成员方法\n",
    "        \n",
    "- 可以通过默认内置变量检查类和对象的所有成员\n",
    "    - 对象所有成员检查\n",
    "        #dict前后各有两个下划线\n",
    "        obj.__dict__ \n",
    "- 类所有的成员\n",
    "        #dict前后各有两个下划线\n",
    "        class_name.__dict__"
   ]
  },
  {
   "cell_type": "markdown",
   "metadata": {},
   "source": [
    "# 3. anaconda基本使用\n",
    "- anaconda主要是一个虚拟环境管理器\n",
    "- 还是一个安装包管理器\n",
    "- conda list： 显示anaconda安装的包\n",
    "- conda env list:显示anaconda的虚拟环境列表\n",
    "- conda create -n xxx python=3.6: 创建python版本为3.6的虚拟环境，名称为xxx"
   ]
  },
  {
   "cell_type": "code",
   "execution_count": 3,
   "metadata": {},
   "outputs": [
    {
     "data": {
      "text/plain": [
       "{}"
      ]
     },
     "execution_count": 3,
     "metadata": {},
     "output_type": "execute_result"
    }
   ],
   "source": [
    "class Student():\n",
    "    name = None\n",
    "    age = 18\n",
    "    \n",
    "Student.__dict__\n",
    "\n",
    "# 实例化\n",
    "yueyue = Student()\n",
    "yueyue.__dict__"
   ]
  },
  {
   "cell_type": "markdown",
   "metadata": {},
   "source": [
    "# 4.类和对象的成员分析\n",
    "- 类和对象都可以存储成员，成员可以归类所有，也可以归对象所有\n",
    "- 类存储成员是使用的是与类关联的一个对象\n",
    "- 独享存储成员是存储在当前对象中\n",
    "- 对象访问一个成员时，如果对象中没有该成员，尝试访问类中的同名成员， 如果对象中有此成员，一定使用对象中的成员\n",
    "- 创建对象的时候，类中的成员不会放入对象当中，而是得到一个空对象，没有成员\n",
    "- 通过对象对类中成员重新赋值或者通过对象添加成员时，对应成员会保存在对象中，而不会修改类成员"
   ]
  },
  {
   "cell_type": "code",
   "execution_count": 5,
   "metadata": {},
   "outputs": [
    {
     "name": "stdout",
     "output_type": "stream",
     "text": [
      "dana\n",
      "18\n",
      "********************\n",
      "1386394997064\n",
      "140723582186864\n",
      "********************\n",
      "dana\n",
      "18\n",
      "1386394997064\n",
      "140723582186864\n"
     ]
    }
   ],
   "source": [
    "class A():\n",
    "    name = \"dana\"\n",
    "    age = 18\n",
    "    \n",
    "    # 注意say的写法，参数有一个self\n",
    "    def say(self):\n",
    "        self.name = \"None\"\n",
    "        self.age = 20\n",
    "\n",
    "# 此时，A称为类实例\n",
    "print(A.name)\n",
    "print(A.age)\n",
    "\n",
    "print(\"*\"* 20)\n",
    "\n",
    "# 用id鉴别两个变量是否为同一变量\n",
    "print(id(A.name))\n",
    "print(id(A.age))\n",
    "\n",
    "print(\"*\"* 20)\n",
    "a = A()\n",
    "\n",
    "print(a.name)\n",
    "print(a.age)\n",
    "print(id(a.name))\n",
    "print(id(a.age))"
   ]
  },
  {
   "cell_type": "markdown",
   "metadata": {},
   "source": [
    "上述案例说明\n",
    "- 类实例的属性和其对象的实例的属性在不对 对象实例属性赋值的前提前，指向同一个变量"
   ]
  },
  {
   "cell_type": "code",
   "execution_count": 6,
   "metadata": {},
   "outputs": [
    {
     "name": "stdout",
     "output_type": "stream",
     "text": [
      "dana\n",
      "18\n",
      "********************\n",
      "1386394997064\n",
      "140723582186864\n",
      "********************\n",
      "yueyue\n",
      "16\n",
      "1386394998016\n",
      "140723582186800\n"
     ]
    }
   ],
   "source": [
    "print(A.name)\n",
    "print(A.age)\n",
    "\n",
    "print(\"*\"* 20)\n",
    "\n",
    "# 用id鉴别两个变量是否为同一变量\n",
    "print(id(A.name))\n",
    "print(id(A.age))\n",
    "\n",
    "print(\"*\"* 20)\n",
    "a = A()\n",
    "a.name = \"yueyue\"\n",
    "a.age = 16\n",
    "\n",
    "print(a.name)\n",
    "print(a.age)\n",
    "print(id(a.name))\n",
    "print(id(a.age))"
   ]
  },
  {
   "cell_type": "markdown",
   "metadata": {},
   "source": [
    "# 5.关于self\n",
    "- self在对象的方法中表示当前对象本身，如果通过对象调用一个方法，那么该对象会自动传入到当前方法 的第一个参数中\n",
    "- self并不是关键字，只是一个用于接受对象的普通参数，理论上可以用任何一个普通变量名代替\n",
    "- 方法中有self形参的方法成为非绑定类的方法，可以通过对象访问， 没有self的是绑定类的方法， 只能通过类访问\n",
    "- 使用类访问绑定类的方法时， 如果类方法中需要访问当前类的成员，可以通过 __class__成员名来访问"
   ]
  },
  {
   "cell_type": "code",
   "execution_count": 7,
   "metadata": {},
   "outputs": [
    {
     "name": "stdout",
     "output_type": "stream",
     "text": [
      "my name is None\n",
      "my age is 20\n"
     ]
    }
   ],
   "source": [
    "class Student():\n",
    "    name = \"dana\"\n",
    "    age = 18\n",
    "    \n",
    "    # 注意say的写法，参数有一个self\n",
    "    def say(self):\n",
    "        self.name = \"None\"\n",
    "        self.age = 20\n",
    "        print(\"my name is {0}\".format(self.name))\n",
    "        print(\"my age is {0}\".format(self.age))\n",
    "        \n",
    "yueyue = Student()\n",
    "yueyue.say()"
   ]
  },
  {
   "cell_type": "code",
   "execution_count": 11,
   "metadata": {},
   "outputs": [
    {
     "name": "stdout",
     "output_type": "stream",
     "text": [
      "my name is None\n",
      "my age is 30\n",
      "dana\n",
      "30\n",
      "Hello,nice to meet you\n"
     ]
    }
   ],
   "source": [
    "class Teacher():\n",
    "    name = \"dana\"\n",
    "    age = 30\n",
    "    \n",
    "    def say(self):\n",
    "        self.name = \"None\"\n",
    "        self.age = 20\n",
    "        print(\"my name is {0}\".format(self.name))\n",
    "        # 调用类的成员变量需要用__class__\n",
    "        print(\"my age is {0}\".format(__class__.age))\n",
    "        \n",
    "    def Sayagain():\n",
    "        print(__class__.name)\n",
    "        print(__class__.age)\n",
    "        print(\"Hello,nice to meet you\")\n",
    "        \n",
    "t = Teacher()\n",
    "t.say()\n",
    "# 调用绑定类函数使用类名\n",
    "Teacher.Sayagain()"
   ]
  },
  {
   "cell_type": "code",
   "execution_count": 15,
   "metadata": {},
   "outputs": [
    {
     "name": "stdout",
     "output_type": "stream",
     "text": [
      "aaa\n",
      "20\n",
      "aaa\n",
      "20\n",
      "iceli\n",
      "18\n",
      "bbb\n",
      "30\n"
     ]
    }
   ],
   "source": [
    "# 关于self的案例\n",
    "class A():\n",
    "    name = \"iceli\"\n",
    "    age = 18\n",
    "        \n",
    "    def __init__(self):\n",
    "        self.name = \"aaa\"\n",
    "        self.age = 20\n",
    "            \n",
    "    def say(self):\n",
    "        print(self.name)\n",
    "        print(self.age)\n",
    "                \n",
    "class B():\n",
    "    name = \"bbb\"\n",
    "    age = 30\n",
    "    \n",
    "a = A()\n",
    "# 系统默认把a作为第一个参数传入函数\n",
    "a.say()\n",
    "\n",
    "# self被a替换\n",
    "A.say(a)\n",
    "# 同样可以把A作为参数传入\n",
    "A.say(A)\n",
    "\n",
    "# 此时，传入的是类实例B，因为B具有name和age属性，所以不会报错\n",
    "A.say(B)\n",
    "\n",
    "# 以上代码，利用了鸭子模型"
   ]
  },
  {
   "cell_type": "markdown",
   "metadata": {},
   "source": [
    "# 6.面向对象的三大特性\n",
    "- 封装\n",
    "- 继承\n",
    "- 多态"
   ]
  },
  {
   "cell_type": "markdown",
   "metadata": {},
   "source": [
    "## 6.1封装\n",
    "- 封装就是对对象的成员进行访问限制\n",
    "- 封装的三个级别\n",
    "    - 公开 public\n",
    "    - 受保护的 protected\n",
    "    - 私有的 private\n",
    "    - public protected private不是关键字\n",
    "- 判别对象的位置\n",
    "    - 对象内部\n",
    "    - 对象外部\n",
    "    - 子类中\n",
    "- python下划线使用：https://blog.csdn.net/handsomekang/article/details/40303207\n",
    "- 私有\n",
    "    - 私有成员是最高级别的封装，只能在当前类或对象中访问\n",
    "    - 在成员前面添加两个下划线即可\n",
    "        class Person():\n",
    "            # name是共有的成员\n",
    "            name = \"lceli\"\n",
    "            # __age就是私有成员\n",
    "            __age = 18\n",
    "    - python的私有不是真的私有，是一种称为name mangling的改名策略，可以使用对象._classname_attributename访问\n",
    "- 受保护的封装 protected\n",
    "    - 受保护的封装是将对象成员进行一定级别的封装，然后，在类中或者子类中都可以进行访问，但是在外部不可以\n",
    "    - 封装方法： 在成员名称前添加一个下划线即可\n",
    "- 公开的，公共的 public\n",
    "    - 公共的封装实际对成员没有任何操作，任何地方都可以访问"
   ]
  },
  {
   "cell_type": "code",
   "execution_count": 17,
   "metadata": {},
   "outputs": [
    {
     "name": "stdout",
     "output_type": "stream",
     "text": [
      "lceli\n"
     ]
    },
    {
     "ename": "AttributeError",
     "evalue": "'Person' object has no attribute '__age'",
     "output_type": "error",
     "traceback": [
      "\u001b[1;31m---------------------------------------------------------------------------\u001b[0m",
      "\u001b[1;31mAttributeError\u001b[0m                            Traceback (most recent call last)",
      "\u001b[1;32m<ipython-input-17-b5a2c47a5a53>\u001b[0m in \u001b[0;36m<module>\u001b[1;34m\u001b[0m\n\u001b[0;32m     10\u001b[0m \u001b[0mprint\u001b[0m\u001b[1;33m(\u001b[0m\u001b[0mp\u001b[0m\u001b[1;33m.\u001b[0m\u001b[0mname\u001b[0m\u001b[1;33m)\u001b[0m\u001b[1;33m\u001b[0m\u001b[1;33m\u001b[0m\u001b[0m\n\u001b[0;32m     11\u001b[0m \u001b[1;31m# __age是私有变量\u001b[0m\u001b[1;33m\u001b[0m\u001b[1;33m\u001b[0m\u001b[1;33m\u001b[0m\u001b[0m\n\u001b[1;32m---> 12\u001b[1;33m \u001b[0mprint\u001b[0m\u001b[1;33m(\u001b[0m\u001b[0mp\u001b[0m\u001b[1;33m.\u001b[0m\u001b[0m__age\u001b[0m\u001b[1;33m)\u001b[0m\u001b[1;33m\u001b[0m\u001b[1;33m\u001b[0m\u001b[0m\n\u001b[0m",
      "\u001b[1;31mAttributeError\u001b[0m: 'Person' object has no attribute '__age'"
     ]
    }
   ],
   "source": [
    "# 公有与私有\n",
    "class Person():\n",
    "            # name是共有的成员\n",
    "            name = \"lceli\"\n",
    "            # __age就是私有成员\n",
    "            __age = 18\n",
    "            \n",
    "p = Person()\n",
    "# name是公有变量\n",
    "print(p.name)\n",
    "# __age是私有变量\n",
    "print(p.__age)"
   ]
  },
  {
   "cell_type": "code",
   "execution_count": 19,
   "metadata": {},
   "outputs": [
    {
     "name": "stdout",
     "output_type": "stream",
     "text": [
      "{'__module__': '__main__', 'name': 'lceli', '_Person__age': 18, '__dict__': <attribute '__dict__' of 'Person' objects>, '__weakref__': <attribute '__weakref__' of 'Person' objects>, '__doc__': None}\n",
      "19\n"
     ]
    }
   ],
   "source": [
    "# name mangling 技术\n",
    "print(Person.__dict__)\n",
    "\n",
    "p._Person__age = 19\n",
    "print(p._Person__age)"
   ]
  },
  {
   "cell_type": "markdown",
   "metadata": {},
   "source": [
    "# 6.2 继承\n",
    "- 继承就是一个类可以获得另一个类中的成员的属性和成员方法\n",
    "- 作用： 减少代码，增加代码的复用功能，同时可以设置类与类直接的关系\n",
    "- 继承与被继承的概念：\n",
    "    - 被继承的类交父类，也叫基类，也叫超类\n",
    "    - 用于继承的类，交子类，也叫派生类\n",
    "    - 继承与被继承一定存在一个 is-a 关系\n",
    "\n",
    "- 继承的语法，参见 继承.ipynb\n",
    "\n",
    "- 继承的特征 \n",
    "    - 所有的类都继承自object类，即所有的类都是object类的子类\n",
    "    - 子类一旦继承父类，则可以使用父类中除私有成员外的所有内容\n",
    "    - 子类继承父类后，并没有将父类成员完全赋值到子类中，而是通过引用关系访问调用\n",
    "    - 子类中可以定义独有的成员属性和方法\n",
    "    - 子类中定义的成员和父类成员如果相同，则优先使用子类成员\n",
    "    - 子类如果想扩充父类的方法，可以在定义新方法的同时访问父类成员来进行代码重用，可以使用 [父类名.父类成员] 的格式来调用父类成员，也可以使用super().父类成员的格式来调用\n",
    "    \n",
    "- 继承变量函数的查找顺序问题\n",
    "    - 优先查找自己的变量\n",
    "    - 没有则查找父类\n",
    "    - 构造函数如果本类中没有定义，则自动查找调用父类构造函数\n",
    "    - 如果本类有定义，则不在继续向上查找\n",
    "    \n",
    "- 构造函数\n",
    "    - 是一类特殊的函数，在类进行实例化之前进行调用\n",
    "    - 如果定义了构造函数，则实例化时使用构造函数，不查找父类构造函数\n",
    "    - 如果没定义，则自动查找父类构造函数\n",
    "    - 如果子类没定义，父类的构造函数带参数，则构造对象时的参数应该按父类参数构造\n",
    "    \n",
    "- super\n",
    "    - super不是关键字，而是一个类\n",
    "    - super的作用是获取MRO(MethodResolutionOrder)列表中的第一个类\n",
    "    - super与父类没有任何实质性关系，但通过super可以调用到父类\n",
    "    - super使用方法，参见构造函数中调用父类的构造函数"
   ]
  },
  {
   "cell_type": "code",
   "execution_count": null,
   "metadata": {},
   "outputs": [],
   "source": []
  }
 ],
 "metadata": {
  "kernelspec": {
   "display_name": "Python 3",
   "language": "python",
   "name": "python3"
  },
  "language_info": {
   "codemirror_mode": {
    "name": "ipython",
    "version": 3
   },
   "file_extension": ".py",
   "mimetype": "text/x-python",
   "name": "python",
   "nbconvert_exporter": "python",
   "pygments_lexer": "ipython3",
   "version": "3.7.1"
  }
 },
 "nbformat": 4,
 "nbformat_minor": 2
}
