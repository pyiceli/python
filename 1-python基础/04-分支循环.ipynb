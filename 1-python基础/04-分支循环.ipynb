{
 "cells": [
  {
   "cell_type": "markdown",
   "metadata": {},
   "source": [
    "# 三大结构\n",
    "- 顺序\n",
    "- 分支\n",
    "- 循环"
   ]
  },
  {
   "cell_type": "markdown",
   "metadata": {},
   "source": [
    "# 分支\n",
    "- 分支的基本语法\n",
    "\n",
    "    if 条件表达式：\n",
    "        语句1\n",
    "        语句2\n",
    "        语句3\n",
    "        ......\n",
    "- 条件表达式就是计算结果必须为布尔值的表达式\n",
    "- 表达式后面的冒号必不可少\n",
    "- 注意if后面出现的语句块，如果属于if语句块，则必须在同一个缩进等级\n",
    "- 条件表达式结果为True则执行if后面的缩进的语句块"
   ]
  },
  {
   "cell_type": "code",
   "execution_count": 1,
   "metadata": {},
   "outputs": [
    {
     "name": "stdout",
     "output_type": "stream",
     "text": [
      "去叫家长\n",
      "我们带不了你\n",
      "一个人去飞\n"
     ]
    }
   ],
   "source": [
    "# if语句\n",
    "# 如果age小于18岁，则打印信息“去叫家长”\n",
    "age = 16\n",
    "if age < 18:\n",
    "    print(\"去叫家长\")\n",
    "    print(\"我们带不了你\")\n",
    "    print(\"一个人去飞\")"
   ]
  },
  {
   "cell_type": "code",
   "execution_count": 2,
   "metadata": {},
   "outputs": [
    {
     "name": "stdout",
     "output_type": "stream",
     "text": [
      "开车，上路了\n"
     ]
    }
   ],
   "source": [
    "# if语句\n",
    "# 如果age小于18岁，则打印信息“去叫家长”\n",
    "age = 22\n",
    "if age < 18:\n",
    "    print(\"去叫家长\")\n",
    "    print(\"我们带不了你\")\n",
    "    print(\"一个人去飞\")\n",
    "print(\"开车，上路了\")"
   ]
  },
  {
   "cell_type": "markdown",
   "metadata": {},
   "source": [
    "### 双向分支\n",
    "- if... else...语句\n",
    "        if 条件表达式：\n",
    "            语句1\n",
    "            语句2\n",
    "            .....\n",
    "        else:\n",
    "            语句1\n",
    "            语句2\n",
    "            .....\n",
    "            \n",
    "- 双向分支有两个分支，当程序执行到if...else... 语句的时候，一定会执行if或else中的一个语句块，并只执行其中一个。\n",
    "- 缩进问题，if和else是一个层级，其余语句块是一个层级\n"
   ]
  },
  {
   "cell_type": "code",
   "execution_count": 4,
   "metadata": {},
   "outputs": [
    {
     "name": "stdout",
     "output_type": "stream",
     "text": [
      "请输入性别: nv\n",
      "你输入的性别是:nv\n",
      "来领糖吃\n",
      "开始上课\n"
     ]
    }
   ],
   "source": [
    "# input的作用是\n",
    "# 1.在屏幕上输出括号内的字符串\n",
    "# 2.接收用户输入的内容并返回到程序\n",
    "# 3.input返回的内容一定是字符串类型\n",
    "gender = input(\"请输入性别: \")\n",
    "print(\"你输入的性别是:{0}\".format(gender))\n",
    "\n",
    "if gender == \"nan\":\n",
    "    print(\"代码敲十遍\")\n",
    "else:\n",
    "    print(\"来领糖吃\")\n",
    "print(\"开始上课\")"
   ]
  },
  {
   "cell_type": "code",
   "execution_count": 17,
   "metadata": {},
   "outputs": [
    {
     "name": "stdout",
     "output_type": "stream",
     "text": [
      "请输入性别: nan\n",
      "你输入的性别是:nan\n",
      "代码敲十遍\n",
      "开始上课\n"
     ]
    }
   ],
   "source": [
    "gender = input(\"请输入性别: \")\n",
    "print(\"你输入的性别是:{0}\".format(gender))\n",
    "\n",
    "if gender == \"nan\":\n",
    "    print(\"代码敲十遍\")\n",
    "else:\n",
    "    print(\"来领糖吃\")\n",
    "print(\"开始上课\")"
   ]
  },
  {
   "cell_type": "markdown",
   "metadata": {},
   "source": [
    "## 多路分支\n",
    "    if 条件表达式:\n",
    "        语句块1\n",
    "    elif 条件表达式:\n",
    "        语句块2\n",
    "    elif 条件表达式:\n",
    "        语句块3\n",
    "    ......\n",
    "    else:\n",
    "        语句块n"
   ]
  },
  {
   "cell_type": "code",
   "execution_count": 23,
   "metadata": {
    "scrolled": true
   },
   "outputs": [
    {
     "name": "stdout",
     "output_type": "stream",
     "text": [
      "请输入学生成绩:86\n",
      "良\n"
     ]
    }
   ],
   "source": [
    "# 例子:考试成绩判断\n",
    "# 注意input的返回值类型——字符串\n",
    "# 90以上：优秀\n",
    "# 80-90：良\n",
    "# 70-80：中\n",
    "# 60-70：及格\n",
    "# 60以下：不及格\n",
    "scode = input(\"请输入学生成绩:\")\n",
    "# 需要把str类型转换成int类型\n",
    "scode = int(scode)\n",
    "\n",
    "if scode >= 90:\n",
    "    print(\"优秀\")\n",
    "elif scode >= 80:\n",
    "    print(\"良\")\n",
    "elif scode >= 70:\n",
    "    print(\"中\")\n",
    "elif scode >= 60:\n",
    "    print(\"及格\")\n",
    "else:\n",
    "    print(\"不及格\")"
   ]
  },
  {
   "cell_type": "markdown",
   "metadata": {},
   "source": [
    "## if语句其他说明\n",
    "- if语句可以嵌套使用，但不推荐\n",
    "- python没有switch-case语句"
   ]
  },
  {
   "cell_type": "markdown",
   "metadata": {},
   "source": [
    "## 循环语句\n",
    "- 重复执行某些固定动作或者处理基本固定的事物\n",
    "- 分类：\n",
    "    - for循环\n",
    "    - while循环\n",
    "## for循环\n",
    "- for循环语法：\n",
    "    for 变量 in 序列:\n",
    "        语句1\n",
    "        语句2\n",
    "        ......\n"
   ]
  },
  {
   "cell_type": "code",
   "execution_count": 24,
   "metadata": {},
   "outputs": [
    {
     "name": "stdout",
     "output_type": "stream",
     "text": [
      "zhangsan\n",
      "lisi\n",
      "wangwu\n"
     ]
    }
   ],
   "source": [
    "# 列表：一列数字或者其他值，一般用中括号表示\n",
    "# 例子：\n",
    "# 打印学生列表姓名\n",
    "for name in [\"zhangsan\",\"lisi\",\"wangwu\"]:\n",
    "    print(name)"
   ]
  },
  {
   "cell_type": "code",
   "execution_count": 26,
   "metadata": {},
   "outputs": [
    {
     "name": "stdout",
     "output_type": "stream",
     "text": [
      "zhangsan\n",
      "不认识\n",
      "lisi\n",
      "不认识\n",
      "wangwu\n",
      "不认识\n",
      "yueyue\n",
      "是我的最爱\n"
     ]
    }
   ],
   "source": [
    "for name in [\"zhangsan\",\"lisi\",\"wangwu\",\"yueyue\"]:\n",
    "    print(name)\n",
    "    if name == \"yueyue\":\n",
    "        print(\"是我的最爱\")\n",
    "    else:\n",
    "        print(\"不认识\")"
   ]
  },
  {
   "cell_type": "markdown",
   "metadata": {},
   "source": [
    "# range介绍\n",
    "- 生成一个数字序列\n",
    "- 具体范围可以设置"
   ]
  },
  {
   "cell_type": "code",
   "execution_count": 30,
   "metadata": {
    "scrolled": true
   },
   "outputs": [
    {
     "name": "stdout",
     "output_type": "stream",
     "text": [
      "1\n",
      "2\n",
      "3\n",
      "4\n",
      "5\n",
      "6\n",
      "7\n",
      "8\n",
      "9\n",
      "10\n"
     ]
    }
   ],
   "source": [
    "# range例子：\n",
    "# 打印从一到十的数字\n",
    "# 注意：一般在python中，如果表示数字范围的两个数，包含左边数字而不包含右边数字\n",
    "# range函数在python2和python3中有很大区别\n",
    "for i in range(1,11):\n",
    "        print(i)"
   ]
  },
  {
   "cell_type": "markdown",
   "metadata": {},
   "source": [
    "## for-else语句\n",
    "- 当for循环结束的时候，会执行else语句\n",
    "- else语句是可选的"
   ]
  },
  {
   "cell_type": "code",
   "execution_count": 32,
   "metadata": {},
   "outputs": [
    {
     "name": "stdout",
     "output_type": "stream",
     "text": [
      "zhangsan\n",
      "是我的同学\n",
      "lisi\n",
      "是我的同学\n",
      "wangwu\n",
      "是我的同学\n",
      "yueyue\n",
      "是我的最爱\n",
      "其他同学不认识\n"
     ]
    }
   ],
   "source": [
    "# for-else语句\n",
    "# 1.打印列表中的学生姓名\n",
    "# 2.如果没有列表或者列表结束了，我们需要打印提示语句，表示循环外语句\n",
    "for name in [\"zhangsan\",\"lisi\",\"wangwu\",\"yueyue\"]:\n",
    "    print(name)\n",
    "    if name == \"yueyue\":\n",
    "        print(\"是我的最爱\")\n",
    "    else:\n",
    "        print(\"是我的同学\")\n",
    "else:\n",
    "    print(\"其他同学不认识\")"
   ]
  },
  {
   "cell_type": "markdown",
   "metadata": {},
   "source": [
    "## for循环之break,continue,pass\n",
    "- break: 无条件结束整个循环，简称循环猝死\n",
    "- continue: 无条件结束本次循环，从新进入下一轮循环\n",
    "- pass: 表示略过，通常用于站位"
   ]
  },
  {
   "cell_type": "code",
   "execution_count": 33,
   "metadata": {},
   "outputs": [
    {
     "name": "stdout",
     "output_type": "stream",
     "text": [
      "1\n",
      "2\n",
      "3\n",
      "4\n",
      "5\n",
      "6\n",
      "找到7了\n"
     ]
    }
   ],
   "source": [
    "# 在数字1-10中，寻找数字7，一旦找到，打印出来，其余则什么都不做\n",
    "# for 循环中的变量表示，一般用i，k，m，n，或者indx，idx，item之类\n",
    "# 在python中，如果循环变量名称不重要，可以用下划线（_)代替\n",
    "for i in range(1,11):\n",
    "    if i == 7:\n",
    "        print(\"找到7了\")\n",
    "        break\n",
    "    else:\n",
    "        print(i)\n"
   ]
  },
  {
   "cell_type": "code",
   "execution_count": 37,
   "metadata": {},
   "outputs": [
    {
     "name": "stdout",
     "output_type": "stream",
     "text": [
      "2是偶数\n",
      "4是偶数\n",
      "6是偶数\n",
      "8是偶数\n",
      "10是偶数\n"
     ]
    }
   ],
   "source": [
    "# continue语句\n",
    "# 在数字1-10中，寻找所有偶数，找到后打印出来\n",
    "for i in range(1,11):\n",
    "    if i % 2 == 1:\n",
    "        continue  \n",
    "    else:\n",
    "        print(\"{0}是偶数\".format(i))"
   ]
  },
  {
   "cell_type": "code",
   "execution_count": 38,
   "metadata": {},
   "outputs": [
    {
     "name": "stdout",
     "output_type": "stream",
     "text": [
      "2是偶数\n",
      "4是偶数\n",
      "6是偶数\n",
      "8是偶数\n",
      "10是偶数\n"
     ]
    }
   ],
   "source": [
    "for i in range(1,11):\n",
    "    if i % 2 == 0:\n",
    "        print(\"{0}是偶数\".format(i))"
   ]
  },
  {
   "cell_type": "code",
   "execution_count": 39,
   "metadata": {},
   "outputs": [],
   "source": [
    "# pass例子，一般用于占位\n",
    "# pass没有跳过功能\n",
    "for i in range(1,11):\n",
    "    pass"
   ]
  }
 ],
 "metadata": {
  "kernelspec": {
   "display_name": "Python 3",
   "language": "python",
   "name": "python3"
  },
  "language_info": {
   "codemirror_mode": {
    "name": "ipython",
    "version": 3
   },
   "file_extension": ".py",
   "mimetype": "text/x-python",
   "name": "python",
   "nbconvert_exporter": "python",
   "pygments_lexer": "ipython3",
   "version": "3.7.1"
  }
 },
 "nbformat": 4,
 "nbformat_minor": 2
}
