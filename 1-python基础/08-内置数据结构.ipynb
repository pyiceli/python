{
 "cells": [
  {
   "cell_type": "markdown",
   "metadata": {},
   "source": [
    "## 汉诺塔问题\n",
    "- 规则：\n",
    "    - 每次移动一个盘子\n",
    "    - 任何时候大盘子在下面，小盘子在上面\n",
    "- 方法：\n",
    "    1.n=1： 直接把A上的一个盘子移动到C上， A->C\n",
    "    2.n=2:\n",
    "        1）把小盘子从A放到B上， A->B\n",
    "        2）把大盘子从A放到C上， A->C\n",
    "        3）把小盘子从B放到C上， B->C\n",
    "    3.n=3:\n",
    "        1）把A上的两个盘子，通过C移动到B上去， 调用递归实现\n",
    "        2）把A上剩下的一个最大盘子移动到C上， A->C\n",
    "        3）把B上两个盘子，借助于A，挪到C上去， 调用递归\n",
    "    4.n = n：\n",
    "        1）把A上的n-1个盘子，借助于C，移动到B上去，调用递归\n",
    "        2）把A上的最大盘子，也是唯一一个，移动到C上，A->C\n",
    "        3）把B上n-1个盘子，借助于A，移动到C上， 调用递归"
   ]
  },
  {
   "cell_type": "code",
   "execution_count": 3,
   "metadata": {},
   "outputs": [
    {
     "name": "stdout",
     "output_type": "stream",
     "text": [
      "A --> B\n",
      "A --> C\n",
      "B --> C\n"
     ]
    }
   ],
   "source": [
    "def hano(n,a,b,c):\n",
    "    '''\n",
    "    汉诺塔的递归实现\n",
    "    n: 代表几个盘子\n",
    "    a: 代表第一个塔，开始塔\n",
    "    b: 代表第二个塔，中间塔\n",
    "    c: 代表第三个塔，目标塔\n",
    "    '''\n",
    "    if n == 1:\n",
    "        print(a,\"-->\",c)\n",
    "        return\n",
    "    if n == 2:\n",
    "        print(a,\"-->\",b)\n",
    "        print(a,\"-->\",c)\n",
    "        print(b,\"-->\",c)\n",
    "        return\n",
    "    # 把n-1个盘子，从a塔借助于c塔，移动到b塔\n",
    "    hano(n-1,a,c,b)\n",
    "    print(a,\"-->\",c)\n",
    "    # 把n-1个盘子，，从b塔，借助于a塔，移动到c塔\n",
    "    hano(n-1,b,a,c)\n",
    "    \n",
    "a = \"A\"\n",
    "b = \"B\"\n",
    "c = \"C\"\n",
    "\n",
    "n = 2\n",
    "hano(2,\"A\",\"B\",\"C\")\n",
    "\n"
   ]
  },
  {
   "cell_type": "code",
   "execution_count": 5,
   "metadata": {},
   "outputs": [
    {
     "name": "stdout",
     "output_type": "stream",
     "text": [
      "A --> C\n",
      "A --> B\n",
      "C --> B\n",
      "A --> C\n",
      "B --> A\n",
      "B --> C\n",
      "A --> C\n"
     ]
    }
   ],
   "source": [
    "n = 3\n",
    "hano(3,\"A\",\"B\",\"C\")"
   ]
  },
  {
   "cell_type": "code",
   "execution_count": 10,
   "metadata": {},
   "outputs": [
    {
     "name": "stdout",
     "output_type": "stream",
     "text": [
      "A --> B\n",
      "A --> C\n",
      "B --> C\n",
      "A --> B\n",
      "C --> A\n",
      "C --> B\n",
      "A --> B\n",
      "A --> C\n",
      "B --> C\n",
      "B --> A\n",
      "C --> A\n",
      "B --> C\n",
      "A --> B\n",
      "A --> C\n",
      "B --> C\n"
     ]
    }
   ],
   "source": [
    "n = 4\n",
    "hano(4,\"A\",\"B\",\"C\")"
   ]
  },
  {
   "cell_type": "markdown",
   "metadata": {},
   "source": [
    "# list列表\n",
    "- del 删除"
   ]
  },
  {
   "cell_type": "code",
   "execution_count": 9,
   "metadata": {},
   "outputs": [
    {
     "name": "stdout",
     "output_type": "stream",
     "text": [
      "1393253140168\n",
      "[1, 2, 4, 5, 6]\n",
      "1393253140168\n"
     ]
    }
   ],
   "source": [
    "# list列表\n",
    "# del 删除\n",
    "a = [1,2,3,4,5,6]\n",
    "print(id(a))\n",
    "del a[2]\n",
    "print(a)\n",
    "print(id(a))"
   ]
  },
  {
   "cell_type": "code",
   "execution_count": 11,
   "metadata": {},
   "outputs": [
    {
     "name": "stdout",
     "output_type": "stream",
     "text": [
      "[1, 2, 3, 4, 5, 5, 6, 7, 8, 9, 'a', 'b', 'c']\n"
     ]
    }
   ],
   "source": [
    "# 使用加好链接两个列表\n",
    "a = [1,2,3,4,5]\n",
    "b = [5,6,7,8,9]\n",
    "d = [\"a\",\"b\",\"c\"]\n",
    "c = a + b + d\n",
    "print(c)"
   ]
  },
  {
   "cell_type": "code",
   "execution_count": 12,
   "metadata": {},
   "outputs": [
    {
     "name": "stdout",
     "output_type": "stream",
     "text": [
      "[1, 2, 3, 4, 5, 1, 2, 3, 4, 5, 1, 2, 3, 4, 5]\n"
     ]
    }
   ],
   "source": [
    "# 使用乘号操作列表\n",
    "# 列表直接跟一个整数相乘,相当于把n个列表接在一起\n",
    "a = [1,2,3,4,5]\n",
    "b = a * 3\n",
    "print(b)"
   ]
  },
  {
   "cell_type": "code",
   "execution_count": 14,
   "metadata": {},
   "outputs": [
    {
     "name": "stdout",
     "output_type": "stream",
     "text": [
      "False\n",
      "True\n"
     ]
    }
   ],
   "source": [
    "# 成员资格运算\n",
    "# 判断一个元素是否在list里面\n",
    "a = [1,2,3,4,5]\n",
    "b = 7\n",
    "c = b in a\n",
    "print(c)\n",
    "\n",
    "b = 4\n",
    "print(b in a)"
   ]
  },
  {
   "cell_type": "code",
   "execution_count": 15,
   "metadata": {},
   "outputs": [
    {
     "name": "stdout",
     "output_type": "stream",
     "text": [
      "True\n"
     ]
    }
   ],
   "source": [
    "# not in \n",
    "a = [1,2,3,4,5]\n",
    "b = 8\n",
    "print(b not in a )\n"
   ]
  },
  {
   "cell_type": "markdown",
   "metadata": {},
   "source": [
    "# 列表的遍历\n",
    "- for\n",
    "- while"
   ]
  },
  {
   "cell_type": "code",
   "execution_count": 16,
   "metadata": {},
   "outputs": [
    {
     "name": "stdout",
     "output_type": "stream",
     "text": [
      "1\n",
      "2\n",
      "3\n",
      "4\n",
      "5\n"
     ]
    }
   ],
   "source": [
    "# for in list\n",
    "a = [1,2,3,4,5]\n",
    "# 挨个打印a列表里面的元素\n",
    "for i in a:\n",
    "    print(i)\n"
   ]
  },
  {
   "cell_type": "code",
   "execution_count": 20,
   "metadata": {},
   "outputs": [
    {
     "name": "stdout",
     "output_type": "stream",
     "text": [
      "1\n",
      "2\n",
      "3\n",
      "4\n",
      "5\n"
     ]
    }
   ],
   "source": [
    "# range\n",
    "# in 后面的变量要求是可迭代的内容\n",
    "\n",
    "#while循环访问list\n",
    "# 一般不用while遍历list\n",
    "a = [1,2,3,4,5]\n",
    "length = len(a)\n",
    "# indx表示list的下标\n",
    "indx = 0\n",
    "while indx < length:\n",
    "    print(a[indx])\n",
    "    indx += 1\n",
    "    "
   ]
  },
  {
   "cell_type": "code",
   "execution_count": 19,
   "metadata": {},
   "outputs": [
    {
     "name": "stdout",
     "output_type": "stream",
     "text": [
      "1\n"
     ]
    }
   ],
   "source": [
    "a = [1,2,3,4,5]\n",
    "indx = 0\n",
    "print(a[indx])"
   ]
  },
  {
   "cell_type": "code",
   "execution_count": 24,
   "metadata": {},
   "outputs": [
    {
     "name": "stdout",
     "output_type": "stream",
     "text": [
      "['two', 2]\n",
      "one --- 1\n",
      "two --- 2\n",
      "three --- 3\n",
      "one --- 1 --- eins\n",
      "two --- 2 --- zwei\n",
      "three --- 3 --- drei\n"
     ]
    }
   ],
   "source": [
    "# 双层列表循环\n",
    "# a 为嵌套列表，或者双层列表\n",
    "a = [[\"one\",1],[\"two\",2],[\"three\",3]]\n",
    "print(a[1])\n",
    "\n",
    "for k,v in a:\n",
    "    print(k,\"---\",v)\n",
    "\n",
    "\n",
    "a = [[\"one\",1,\"eins\"],[\"two\",2,\"zwei\"],[\"three\",3,\"drei\"]]\n",
    "for k,v,w in a:\n",
    "    print(k,\"---\",v,\"---\",w)"
   ]
  },
  {
   "cell_type": "markdown",
   "metadata": {},
   "source": [
    "# 列表内涵：list content\n",
    "- 通过简单方法创作列表"
   ]
  },
  {
   "cell_type": "code",
   "execution_count": 25,
   "metadata": {},
   "outputs": [
    {
     "name": "stdout",
     "output_type": "stream",
     "text": [
      "['a', 'b', 'c']\n"
     ]
    }
   ],
   "source": [
    "# for 创建\n",
    "a= [\"a\",\"b\",\"c\"]\n",
    "# 用list a创建一个list  b\n",
    "# 下面代码的含义是：对于所有a中的元素，逐个放到新列表b中\n",
    "b = [i for i in a]\n",
    "print(b)"
   ]
  },
  {
   "cell_type": "code",
   "execution_count": 26,
   "metadata": {},
   "outputs": [
    {
     "name": "stdout",
     "output_type": "stream",
     "text": [
      "[10, 20, 30, 40, 50]\n"
     ]
    }
   ],
   "source": [
    "a= [1,2,3,4,5]\n",
    "b = [i*10 for i in a]\n",
    "print(b)"
   ]
  },
  {
   "cell_type": "code",
   "execution_count": 27,
   "metadata": {},
   "outputs": [
    {
     "name": "stdout",
     "output_type": "stream",
     "text": [
      "[2, 4, 6, 8, 10, 12, 14, 16, 18, 20, 22, 24, 26, 28, 30, 32, 34]\n"
     ]
    }
   ],
   "source": [
    "# 可以过滤原来list中的内容，并放入新列表\n",
    "# 例如：原有列表a，需要把a中所有偶数生成新的列表b\n",
    "a = [x for x in range(1,35)] #生成一个1到34的一个列表\n",
    "b = [y for y in a if y % 2 == 0]\n",
    "print(b)\n"
   ]
  },
  {
   "cell_type": "code",
   "execution_count": 36,
   "metadata": {},
   "outputs": [
    {
     "name": "stdout",
     "output_type": "stream",
     "text": [
      "[1, 2, 3]\n",
      "[100, 200, 300]\n",
      "[101, 201, 301, 102, 202, 302, 103, 203, 303]\n",
      "101 201 301 102 202 302 103 203 303 "
     ]
    }
   ],
   "source": [
    "# 列表生成时可以嵌套\n",
    "a = [i for i in range(1,4)]\n",
    "print(a)\n",
    "\n",
    "b = [m for m in range(100,400) if m % 100 == 0]\n",
    "print(b)\n",
    "\n",
    "# 列表生成的嵌套，等于两个for循环的嵌套\n",
    "c = [x+y for x in a for y in b]\n",
    "print(c)\n",
    "\n",
    "for x in a:\n",
    "    for y in b:\n",
    "        print(x+y,end=\" \")\n"
   ]
  },
  {
   "cell_type": "markdown",
   "metadata": {},
   "source": [
    "# 关于列表的常用函数"
   ]
  },
  {
   "cell_type": "code",
   "execution_count": 41,
   "metadata": {},
   "outputs": [
    {
     "name": "stdout",
     "output_type": "stream",
     "text": [
      "99\n",
      "99\n",
      "1\n",
      "python\n",
      "fale\n"
     ]
    }
   ],
   "source": [
    "# len:求列表长度\n",
    "a = [x for x in range(1,100)]\n",
    "print(len(a))\n",
    "\n",
    "# max:求列表中的最大值\n",
    "# min：求列表中的最小值\n",
    "print(max(a))\n",
    "print(min(a))\n",
    "\n",
    "b = ['man','fale','python','nv']\n",
    "print(max(b))\n",
    "print(min(b))"
   ]
  },
  {
   "cell_type": "code",
   "execution_count": 44,
   "metadata": {},
   "outputs": [
    {
     "name": "stdout",
     "output_type": "stream",
     "text": [
      "[1, 2, 3]\n",
      "['i', ' ', 'l', 'o', 'v', 'e', ' ', 'y', 'u', 'e', 'y', 'u', 'e']\n",
      "[11, 12, 13, 14, 15, 16, 17, 18, 19]\n"
     ]
    }
   ],
   "source": [
    "# list:将其他格式的数据转换成list\n",
    "a = [1,2,3]\n",
    "print(list(a))\n",
    "\n",
    "s = 'i love yueyue'\n",
    "print(list(s))\n",
    "\n",
    "# 把range产生的内容转换成list\n",
    "print(list(range(11,20)))"
   ]
  }
 ],
 "metadata": {
  "kernelspec": {
   "display_name": "Python 3",
   "language": "python",
   "name": "python3"
  },
  "language_info": {
   "codemirror_mode": {
    "name": "ipython",
    "version": 3
   },
   "file_extension": ".py",
   "mimetype": "text/x-python",
   "name": "python",
   "nbconvert_exporter": "python",
   "pygments_lexer": "ipython3",
   "version": "3.7.1"
  }
 },
 "nbformat": 4,
 "nbformat_minor": 2
}
