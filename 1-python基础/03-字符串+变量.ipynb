{
 "cells": [
  {
   "cell_type": "markdown",
   "metadata": {},
   "source": [
    "##字符串\n",
    "- 转义\n",
    "- 格式化\n",
    "- 内建函数（后缀）\n",
    "\n",
    "##转义字符\n",
    "- 用一个特殊的方法表示出一系列不方便写出的内容，比如回车键、换行键、退格键\n",
    "- 借助反斜杠字符，一旦字符串中出现反斜杠，则反斜杠后面的一个或多个字符表示已经不是原来的含义\n",
    "- 在字符串中，一旦出现反斜杠就要加倍小心，可能有转义字符出现\n",
    "- 不同系统对换行操作有不同的表示\n",
    "    - windows： \\n\n",
    "    - linux: \\r\\n"
   ]
  },
  {
   "cell_type": "code",
   "execution_count": 2,
   "metadata": {},
   "outputs": [
    {
     "name": "stdout",
     "output_type": "stream",
     "text": [
      "hello world\n"
     ]
    }
   ],
   "source": [
    "a = \"hello world\"\n",
    "print(a)"
   ]
  },
  {
   "cell_type": "code",
   "execution_count": 10,
   "metadata": {},
   "outputs": [
    {
     "name": "stdout",
     "output_type": "stream",
     "text": [
      "let's go\n",
      "let's go\n",
      "c:\\user\n",
      "i love \r\n",
      " yueyue\n"
     ]
    }
   ],
   "source": [
    "# 如果想表示let's go\n",
    "# 1. 可以使用嵌套引号，即外层使用双引号\n",
    "b = \"let's go\"\n",
    "print(b)\n",
    "\n",
    "# 2. 转义字符\n",
    "b = 'let\\'s go'\n",
    "print(b)\n",
    "# \\\\ = \\\n",
    "path = \"c:\\\\user\"\n",
    "print(path)\n",
    "\n",
    "# 回车换行符\n",
    "mi = \"i love \\r\\n yueyue\"\n",
    "print(mi)"
   ]
  },
  {
   "cell_type": "markdown",
   "metadata": {},
   "source": [
    "## 字符串的格式化\n",
    "- 把字符串按照一定格式打印或者填充\n",
    "- 格式化两种方法\n",
    "    - 利用百分号（%）\n",
    "    - 利用format函数"
   ]
  },
  {
   "cell_type": "code",
   "execution_count": null,
   "metadata": {},
   "outputs": [],
   "source": [
    "text = \"某某某，您好！python免费课程开课啦，不学白不学\""
   ]
  },
  {
   "cell_type": "markdown",
   "metadata": {},
   "source": [
    "### 利用百分号格式化\n",
    "- 在字符串中，利用%表示一个特殊的含义，表示对字符进行格式化\n",
    "- %d: 此处应该放入一个整数\n",
    "- %s: 表示此处应该放入一个字符串"
   ]
  },
  {
   "cell_type": "code",
   "execution_count": 21,
   "metadata": {},
   "outputs": [
    {
     "name": "stdout",
     "output_type": "stream",
     "text": [
      "i love %s\n"
     ]
    }
   ],
   "source": [
    "a = \"i love %s\"\n",
    "print(a)"
   ]
  },
  {
   "cell_type": "code",
   "execution_count": 22,
   "metadata": {},
   "outputs": [
    {
     "name": "stdout",
     "output_type": "stream",
     "text": [
      "i love yueyue\n"
     ]
    }
   ],
   "source": [
    "a = \"i love %s\"\n",
    "print(a %\"yueyue\")"
   ]
  },
  {
   "cell_type": "code",
   "execution_count": 27,
   "metadata": {},
   "outputs": [
    {
     "name": "stdout",
     "output_type": "stream",
     "text": [
      "i am %d years old\n",
      "i am 24 years old\n"
     ]
    }
   ],
   "source": [
    "b = \"i am %d years old\"\n",
    "print(b)\n",
    "print(b%24 )"
   ]
  },
  {
   "cell_type": "code",
   "execution_count": 33,
   "metadata": {
    "scrolled": true
   },
   "outputs": [
    {
     "name": "stdout",
     "output_type": "stream",
     "text": [
      "i am %s,i am %d years old\n",
      "i am li,i am 22 years old\n"
     ]
    }
   ],
   "source": [
    "c =  \"i am %s,i am %d years old\"\n",
    "print(c)\n",
    "print(c%(\"li\",22))"
   ]
  },
  {
   "cell_type": "markdown",
   "metadata": {},
   "source": [
    "### format函数格式化\n",
    "- 直接用format函数格式化\n",
    "- 推荐使用这种方法\n",
    "- 在使用上，以{}和：代替%，后面用format带参数完成"
   ]
  },
  {
   "cell_type": "code",
   "execution_count": 37,
   "metadata": {},
   "outputs": [
    {
     "name": "stdout",
     "output_type": "stream",
     "text": [
      "i love yueyue\n"
     ]
    }
   ],
   "source": [
    "d = \"i love {name}\"\n",
    "print(d.format(name='yueyue'))"
   ]
  },
  {
   "cell_type": "code",
   "execution_count": 48,
   "metadata": {},
   "outputs": [
    {
     "name": "stdout",
     "output_type": "stream",
     "text": [
      "yes, i am 18 years old, i love li and i am 18 years old\n"
     ]
    }
   ],
   "source": [
    "e = \"yes, i am {1} years old, i love {0} and i am {1} years old\".format(\"li\",18)\n",
    "print(e)"
   ]
  },
  {
   "cell_type": "markdown",
   "metadata": {},
   "source": [
    "## None\n",
    "- 表示什么也木有\n",
    "- 如果函数没有返回值，则返回None\n",
    "- 用来占位置\n",
    "- 用来解除变量绑定\n"
   ]
  },
  {
   "cell_type": "markdown",
   "metadata": {},
   "source": [
    "# 表达式\n",
    "- 由一个或者几个数字或者变量和运算符组合成一段代码\n",
    "- 通常会返回一个结果\n",
    "\n",
    "# 运算符\n",
    "- 由一个以上的值经过变化得到新值的过程就叫运算\n",
    "- 用于运算的符号叫运算符\n",
    "- 运算符的分类：\n",
    "    - 算数运算符\n",
    "    - 比较或者关系运算符\n",
    "    - 赋值运算符\n",
    "    - 逻辑运算符\n",
    "    - 位运算\n",
    "    - 成员运算\n",
    "    - 身份运算符"
   ]
  },
  {
   "cell_type": "markdown",
   "metadata": {},
   "source": [
    "## 算数运算符\n",
    "- 进行算术运算的符号\n",
    "- python，没有自增减运算符"
   ]
  },
  {
   "cell_type": "code",
   "execution_count": 52,
   "metadata": {},
   "outputs": [
    {
     "name": "stdout",
     "output_type": "stream",
     "text": [
      "18\n",
      "2.25\n",
      "1\n",
      "2\n",
      "32768\n"
     ]
    }
   ],
   "source": [
    "# +，-与正常算数运算符一样 \n",
    "# 乘号用星号（*）代替\n",
    "a = 3*6\n",
    "print(a)\n",
    "\n",
    "# 除号用斜杠（/）代替\n",
    "# 在python2.x 与python3.x中，除号结果可能不一致\n",
    "a  = 9/4\n",
    "print(a)\n",
    "\n",
    "# %  模运算（求余数）\n",
    "a = 5 % 2\n",
    "print(a)\n",
    "\n",
    "# // 地板除（取整运算）\n",
    "a = 5 // 2\n",
    "print(a)\n",
    "\n",
    "# ** 幂运算\n",
    "a = 8 ** 5\n",
    "print(a)"
   ]
  },
  {
   "cell_type": "markdown",
   "metadata": {},
   "source": [
    "# 比较运算符\n",
    "- 对两个变量或者值进行比较的运算符\n",
    "- 比较的结果是布尔值"
   ]
  },
  {
   "cell_type": "code",
   "execution_count": 54,
   "metadata": {},
   "outputs": [
    {
     "name": "stdout",
     "output_type": "stream",
     "text": [
      "False\n",
      "True\n"
     ]
    }
   ],
   "source": [
    "# == ,等于号\n",
    "a = 3 ** 4\n",
    "b = a ==80\n",
    "print(b)\n",
    "\n",
    "# != 不等于\n",
    "print(9 != 8)\n",
    "\n",
    "# > 大于\n",
    "# < 小于\n",
    "# >= 大于等于\n",
    "# <= 小于等于"
   ]
  },
  {
   "cell_type": "markdown",
   "metadata": {},
   "source": [
    "## 赋值运算符"
   ]
  },
  {
   "cell_type": "code",
   "execution_count": 55,
   "metadata": {},
   "outputs": [
    {
     "name": "stdout",
     "output_type": "stream",
     "text": [
      "1 2 3\n"
     ]
    }
   ],
   "source": [
    "# = 赋值\n",
    "a,b,c = 1,2,3\n",
    "print(a,b,c)\n",
    "\n",
    "# +=,是缩写\n",
    "a += 7 # a = a + 7 的缩写\n",
    "# 所有数字运算符都有缩写形式\n",
    "# -=， *=， /=, //=, %=, **=都是缩写形式"
   ]
  },
  {
   "cell_type": "markdown",
   "metadata": {},
   "source": [
    "#逻辑运算符\n",
    "- 对布尔值进行计算的符号\n",
    "- and 逻辑与\n",
    "- or 逻辑或\n",
    "- not 逻辑非\n",
    "- python中逻辑运算没有异或运算\n",
    "- 运算规则：\n",
    "    - and看做乘法， or看做加法\n",
    "    - True看做1， False看做0\n",
    "    - 则逻辑运算就能转换成整数数学运算\n",
    "    - 最后结果如果是0则为False,否则为True\n",
    "-逻辑短路\n",
    "    - 逻辑运算式，按照运算顺序计算， 一旦能够确定整个式子未来的值，则不再进行计算，直接返回"
   ]
  },
  {
   "cell_type": "code",
   "execution_count": 56,
   "metadata": {},
   "outputs": [
    {
     "name": "stdout",
     "output_type": "stream",
     "text": [
      "True\n"
     ]
    }
   ],
   "source": [
    "# 逻辑运算符例子\n",
    "a = True\n",
    "b = False\n",
    "c = True\n",
    "d = a and b or c\n",
    "print(d)\n"
   ]
  },
  {
   "cell_type": "code",
   "execution_count": null,
   "metadata": {},
   "outputs": [],
   "source": [
    "# 逻辑短路例子\n",
    "# 下面的逻辑表达式，a的值一定是True,则进行到or的时候，整个表达式不再向下计算\n",
    "a = True or xxxxxxxxx\n",
    "\n",
    "# 下面表达式，如果xx中包含赋值表达式，则结果很难预期\n"
   ]
  },
  {
   "cell_type": "markdown",
   "metadata": {},
   "source": []
  },
  {
   "cell_type": "markdown",
   "metadata": {},
   "source": [
    "# 成员运算符\n",
    "- 用来检测某一个变量是否是另一个变量的成员\n",
    "- in \n",
    "- not in "
   ]
  },
  {
   "cell_type": "code",
   "execution_count": 58,
   "metadata": {},
   "outputs": [
    {
     "name": "stdout",
     "output_type": "stream",
     "text": [
      "False\n",
      "True\n"
     ]
    }
   ],
   "source": [
    "# 例子\n",
    "a = [1,2,3,4]\n",
    "b = 7\n",
    "c = b in a\n",
    "print(c)\n",
    "\n",
    "b = 3\n",
    "print(b in a)"
   ]
  },
  {
   "cell_type": "markdown",
   "metadata": {},
   "source": [
    "## 身份运算\n",
    "- is: 用来检测两个变量是否是同一个变量\n",
    "    - 语法： var1 is var2\n",
    "- is not : 两个变量不是同一个变量"
   ]
  },
  {
   "cell_type": "code",
   "execution_count": 61,
   "metadata": {},
   "outputs": [
    {
     "name": "stdout",
     "output_type": "stream",
     "text": [
      "True\n",
      "True\n",
      "False\n"
     ]
    }
   ],
   "source": [
    "a = 7\n",
    "b = 7\n",
    "print(a is b)\n",
    "\n",
    "a = \"yueyue\"\n",
    "b = \"yueyue\"\n",
    "print(a is b)\n",
    "\n",
    "a = \"i love yueyue\"\n",
    "b = \"i love yueyue\"\n",
    "print(a is b)"
   ]
  },
  {
   "cell_type": "markdown",
   "metadata": {},
   "source": [
    "## 运算符的优先级问题\n",
    "- 括号具有最高优先级\n",
    "- 优先级表格\n",
    "  **  指数 (最高优先级)\n",
    "  ~ + -   按位翻转, 一元加号和减号 (最后两个的方法名为 +@ 和 -@)\n",
    "  * / % //    乘，除，取模和取整除\n",
    "  + - 加法减法\n",
    "  >>  <<   右移，左移运算符\n",
    "  &   位 'AND'\n",
    "  ^ | 位运算符\n",
    "  <= < > >=   比较运算符\n",
    "  <> == !=    等于运算符\n",
    "  = %= /= //= -= += *= **=    赋值运算符\n",
    "  is is not   身份运算符\n",
    "  in not in   成员运算符\n",
    "  not or and   逻辑运算符"
   ]
  },
  {
   "cell_type": "markdown",
   "metadata": {},
   "source": [
    "# 程序结构\n",
    "- 循环\n",
    "- 分支\n",
    "- 顺序"
   ]
  }
 ],
 "metadata": {
  "kernelspec": {
   "display_name": "Python 3",
   "language": "python",
   "name": "python3"
  },
  "language_info": {
   "codemirror_mode": {
    "name": "ipython",
    "version": 3
   },
   "file_extension": ".py",
   "mimetype": "text/x-python",
   "name": "python",
   "nbconvert_exporter": "python",
   "pygments_lexer": "ipython3",
   "version": "3.7.1"
  }
 },
 "nbformat": 4,
 "nbformat_minor": 2
}
