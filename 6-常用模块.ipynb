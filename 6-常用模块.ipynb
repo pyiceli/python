{
 "cells": [
  {
   "cell_type": "markdown",
   "metadata": {},
   "source": [
    "# 常用模块\n",
    "- calendar\n",
    "- time\n",
    "- datetime\n",
    "- os\n",
    "- shutil\n",
    "- zip\n",
    "- math\n",
    "- string\n",
    "- 上述所有模块使用时，理论上都要先导入，string是特例"
   ]
  },
  {
   "cell_type": "markdown",
   "metadata": {},
   "source": [
    "# calendar （日历）\n",
    "- 跟日历相关的模块"
   ]
  },
  {
   "cell_type": "code",
   "execution_count": 1,
   "metadata": {},
   "outputs": [],
   "source": [
    "# 使用前先导入模块\n",
    "import calendar\n"
   ]
  },
  {
   "cell_type": "code",
   "execution_count": 6,
   "metadata": {},
   "outputs": [
    {
     "name": "stdout",
     "output_type": "stream",
     "text": [
      "<class 'str'>\n",
      "                                  2019\n",
      "\n",
      "      January                   February                   March\n",
      "Mo Tu We Th Fr Sa Su      Mo Tu We Th Fr Sa Su      Mo Tu We Th Fr Sa Su\n",
      "    1  2  3  4  5  6                   1  2  3                   1  2  3\n",
      " 7  8  9 10 11 12 13       4  5  6  7  8  9 10       4  5  6  7  8  9 10\n",
      "14 15 16 17 18 19 20      11 12 13 14 15 16 17      11 12 13 14 15 16 17\n",
      "21 22 23 24 25 26 27      18 19 20 21 22 23 24      18 19 20 21 22 23 24\n",
      "28 29 30 31               25 26 27 28               25 26 27 28 29 30 31\n",
      "\n",
      "       April                      May                       June\n",
      "Mo Tu We Th Fr Sa Su      Mo Tu We Th Fr Sa Su      Mo Tu We Th Fr Sa Su\n",
      " 1  2  3  4  5  6  7             1  2  3  4  5                      1  2\n",
      " 8  9 10 11 12 13 14       6  7  8  9 10 11 12       3  4  5  6  7  8  9\n",
      "15 16 17 18 19 20 21      13 14 15 16 17 18 19      10 11 12 13 14 15 16\n",
      "22 23 24 25 26 27 28      20 21 22 23 24 25 26      17 18 19 20 21 22 23\n",
      "29 30                     27 28 29 30 31            24 25 26 27 28 29 30\n",
      "\n",
      "        July                     August                  September\n",
      "Mo Tu We Th Fr Sa Su      Mo Tu We Th Fr Sa Su      Mo Tu We Th Fr Sa Su\n",
      " 1  2  3  4  5  6  7                1  2  3  4                         1\n",
      " 8  9 10 11 12 13 14       5  6  7  8  9 10 11       2  3  4  5  6  7  8\n",
      "15 16 17 18 19 20 21      12 13 14 15 16 17 18       9 10 11 12 13 14 15\n",
      "22 23 24 25 26 27 28      19 20 21 22 23 24 25      16 17 18 19 20 21 22\n",
      "29 30 31                  26 27 28 29 30 31         23 24 25 26 27 28 29\n",
      "                                                    30\n",
      "\n",
      "      October                   November                  December\n",
      "Mo Tu We Th Fr Sa Su      Mo Tu We Th Fr Sa Su      Mo Tu We Th Fr Sa Su\n",
      "    1  2  3  4  5  6                   1  2  3                         1\n",
      " 7  8  9 10 11 12 13       4  5  6  7  8  9 10       2  3  4  5  6  7  8\n",
      "14 15 16 17 18 19 20      11 12 13 14 15 16 17       9 10 11 12 13 14 15\n",
      "21 22 23 24 25 26 27      18 19 20 21 22 23 24      16 17 18 19 20 21 22\n",
      "28 29 30 31               25 26 27 28 29 30         23 24 25 26 27 28 29\n",
      "                                                    30 31\n",
      "\n"
     ]
    }
   ],
   "source": [
    "# 函数calendar：　获取一年的日历字符串\n",
    "# 参数\n",
    "# w = 每个日期之间的间隔字符数\n",
    "# l = 每周所占用的行数\n",
    "# c = 每个月之间的间隔字符数\n",
    "cal = calendar.calendar(2019)\n",
    "print(type(cal))\n",
    "print(cal)"
   ]
  },
  {
   "cell_type": "code",
   "execution_count": 80,
   "metadata": {},
   "outputs": [
    {
     "name": "stdout",
     "output_type": "stream",
     "text": [
      "                                 2019\n",
      "\n",
      "      January                  February                  March\n",
      "Mo Tu We Th Fr Sa Su     Mo Tu We Th Fr Sa Su     Mo Tu We Th Fr Sa Su\n",
      "    1  2  3  4  5  6                  1  2  3                  1  2  3\n",
      " 7  8  9 10 11 12 13      4  5  6  7  8  9 10      4  5  6  7  8  9 10\n",
      "14 15 16 17 18 19 20     11 12 13 14 15 16 17     11 12 13 14 15 16 17\n",
      "21 22 23 24 25 26 27     18 19 20 21 22 23 24     18 19 20 21 22 23 24\n",
      "28 29 30 31              25 26 27 28              25 26 27 28 29 30 31\n",
      "\n",
      "       April                     May                      June\n",
      "Mo Tu We Th Fr Sa Su     Mo Tu We Th Fr Sa Su     Mo Tu We Th Fr Sa Su\n",
      " 1  2  3  4  5  6  7            1  2  3  4  5                     1  2\n",
      " 8  9 10 11 12 13 14      6  7  8  9 10 11 12      3  4  5  6  7  8  9\n",
      "15 16 17 18 19 20 21     13 14 15 16 17 18 19     10 11 12 13 14 15 16\n",
      "22 23 24 25 26 27 28     20 21 22 23 24 25 26     17 18 19 20 21 22 23\n",
      "29 30                    27 28 29 30 31           24 25 26 27 28 29 30\n",
      "\n",
      "        July                    August                 September\n",
      "Mo Tu We Th Fr Sa Su     Mo Tu We Th Fr Sa Su     Mo Tu We Th Fr Sa Su\n",
      " 1  2  3  4  5  6  7               1  2  3  4                        1\n",
      " 8  9 10 11 12 13 14      5  6  7  8  9 10 11      2  3  4  5  6  7  8\n",
      "15 16 17 18 19 20 21     12 13 14 15 16 17 18      9 10 11 12 13 14 15\n",
      "22 23 24 25 26 27 28     19 20 21 22 23 24 25     16 17 18 19 20 21 22\n",
      "29 30 31                 26 27 28 29 30 31        23 24 25 26 27 28 29\n",
      "                                                  30\n",
      "\n",
      "      October                  November                 December\n",
      "Mo Tu We Th Fr Sa Su     Mo Tu We Th Fr Sa Su     Mo Tu We Th Fr Sa Su\n",
      "    1  2  3  4  5  6                  1  2  3                        1\n",
      " 7  8  9 10 11 12 13      4  5  6  7  8  9 10      2  3  4  5  6  7  8\n",
      "14 15 16 17 18 19 20     11 12 13 14 15 16 17      9 10 11 12 13 14 15\n",
      "21 22 23 24 25 26 27     18 19 20 21 22 23 24     16 17 18 19 20 21 22\n",
      "28 29 30 31              25 26 27 28 29 30        23 24 25 26 27 28 29\n",
      "                                                  30 31\n",
      "\n"
     ]
    }
   ],
   "source": [
    "cal = calendar.calendar(2019, l=0, c=5)\n",
    "print(cal)"
   ]
  },
  {
   "cell_type": "code",
   "execution_count": 8,
   "metadata": {},
   "outputs": [
    {
     "data": {
      "text/plain": [
       "False"
      ]
     },
     "execution_count": 8,
     "metadata": {},
     "output_type": "execute_result"
    }
   ],
   "source": [
    "# 函数isleap: 判断某一年是否为闰年\n",
    "calendar.isleap(2019)"
   ]
  },
  {
   "cell_type": "code",
   "execution_count": 9,
   "metadata": {},
   "outputs": [
    {
     "data": {
      "text/plain": [
       "5"
      ]
     },
     "execution_count": 9,
     "metadata": {},
     "output_type": "execute_result"
    }
   ],
   "source": [
    "# 函数leapdays: 获取指定年份之间闰年的个数\n",
    "calendar.leapdays(1998,2019)"
   ]
  },
  {
   "cell_type": "code",
   "execution_count": 10,
   "metadata": {},
   "outputs": [
    {
     "name": "stdout",
     "output_type": "stream",
     "text": [
      "Help on function leapdays in module calendar:\n",
      "\n",
      "leapdays(y1, y2)\n",
      "    Return number of leap years in range [y1, y2).\n",
      "    Assume y1 <= y2.\n",
      "\n"
     ]
    }
   ],
   "source": [
    "help(calendar.leapdays)"
   ]
  },
  {
   "cell_type": "code",
   "execution_count": 11,
   "metadata": {},
   "outputs": [
    {
     "name": "stdout",
     "output_type": "stream",
     "text": [
      "     March 2019\n",
      "Mo Tu We Th Fr Sa Su\n",
      "             1  2  3\n",
      " 4  5  6  7  8  9 10\n",
      "11 12 13 14 15 16 17\n",
      "18 19 20 21 22 23 24\n",
      "25 26 27 28 29 30 31\n",
      "\n"
     ]
    }
   ],
   "source": [
    "# 函数month（）: 获取某个月的日历字符串\n",
    "# 格式:calendar.month(年，月)\n",
    "# 回值：月日历的字符串\n",
    "m3 = calendar.month(2019, 3)\n",
    "print(m3)"
   ]
  },
  {
   "cell_type": "code",
   "execution_count": 13,
   "metadata": {
    "scrolled": true
   },
   "outputs": [
    {
     "name": "stdout",
     "output_type": "stream",
     "text": [
      "4\n",
      "31\n"
     ]
    }
   ],
   "source": [
    "# 函数monthrange（）: 获取某个月是从周几开始及这个月总天数\n",
    "# 格式：calendar.monthrange(年,月)\n",
    "# 返回值：元组(周几开始,总天数)\n",
    "# 注意：默认 0 -6 表示周一到周天\n",
    "w,t = calendar.monthrange(2019, 3)\n",
    "print(w)\n",
    "print(t)"
   ]
  },
  {
   "cell_type": "code",
   "execution_count": 15,
   "metadata": {},
   "outputs": [
    {
     "name": "stdout",
     "output_type": "stream",
     "text": [
      "<class 'list'>\n",
      "[[0, 0, 0, 0, 1, 2, 3], [4, 5, 6, 7, 8, 9, 10], [11, 12, 13, 14, 15, 16, 17], [18, 19, 20, 21, 22, 23, 24], [25, 26, 27, 28, 29, 30, 31]]\n"
     ]
    }
   ],
   "source": [
    "# 函数monthcalendar(): 返回一个月每天的矩阵列表\n",
    "# 格式：calendar.monthcalendar(年，月)\n",
    "# 返回值：二级列表\n",
    "# 注意：矩阵中没有天数用0表示\n",
    "m = calendar.monthcalendar(2019, 3)\n",
    "print(type(m))\n",
    "print(m)"
   ]
  },
  {
   "cell_type": "code",
   "execution_count": 16,
   "metadata": {},
   "outputs": [
    {
     "name": "stdout",
     "output_type": "stream",
     "text": [
      "Help on method pryear in module calendar:\n",
      "\n",
      "pryear(theyear, w=0, l=0, c=6, m=3) method of calendar.TextCalendar instance\n",
      "    Print a year's calendar.\n",
      "\n"
     ]
    }
   ],
   "source": [
    "# 函数prcal: （print calendar的缩写） 直接打印某年的日历\n",
    "# calendar.prcal(2019)\n",
    "help(calendar.prcal)"
   ]
  },
  {
   "cell_type": "code",
   "execution_count": 17,
   "metadata": {
    "scrolled": true
   },
   "outputs": [
    {
     "name": "stdout",
     "output_type": "stream",
     "text": [
      "     March 2019\n",
      "Mo Tu We Th Fr Sa Su\n",
      "             1  2  3\n",
      " 4  5  6  7  8  9 10\n",
      "11 12 13 14 15 16 17\n",
      "18 19 20 21 22 23 24\n",
      "25 26 27 28 29 30 31\n"
     ]
    }
   ],
   "source": [
    "# 函数prmonth(): 直接打印整个月的日历\n",
    "# 格式：calendar.prmonth(年，月)\n",
    "# 返回值：无\n",
    "calendar.prmonth(2019, 3)"
   ]
  },
  {
   "cell_type": "code",
   "execution_count": 20,
   "metadata": {},
   "outputs": [
    {
     "data": {
      "text/plain": [
       "0"
      ]
     },
     "execution_count": 20,
     "metadata": {},
     "output_type": "execute_result"
    }
   ],
   "source": [
    "# 函数weekday(): 获取周几\n",
    "# 格式:calendar.weekday(年，月，日)\n",
    "# 返回值:周几对应的数字0-6\n",
    "calendar.weekday(2019, 5, 13)"
   ]
  },
  {
   "cell_type": "markdown",
   "metadata": {},
   "source": [
    "# time模块（很常用）\n",
    "- 时间戳\n",
    "    - 一个时间表示，根据不同语言，可以是整数或是浮点数\n",
    "    - 是从1970年1月1日0时0分0秒到现在为止经历的秒数\n",
    "    - 如果表示的时间是1970年以前或是太遥远的未来，可能出现异常\n",
    "    - 32位操作系统能够支持到2038年\n",
    "\n",
    "- UTC时间\n",
    "    - UTC又称为世界协调时间，以英国的格林尼治天文所在地区的时间作为参考的时间，也叫做世界标准时间。\n",
    "    - 中国时间是 UTC+8 东八区\n",
    "    \n",
    "- 夏令时\n",
    "    - 夏令时就是在夏天的时候将时间调快一小时，本意是督促大家早睡早起节省蜡烛！ 每天变成25个小时，本质没变还是24小时\n",
    "\n",
    "- 时间元组\n",
    "    - 一个包含时间内容的普通元组\n",
    "    \n",
    "    索引     内容      属性       值\n",
    "\n",
    "    0       年       tm_year     2015\n",
    "    1       月       tm_mon      1～12\n",
    "    2       日       tm_mday     1～31\n",
    "    3       时       tm_hour     0～23\n",
    "    4       分       tm_min      0～59\n",
    "    5       秒       tm_sec      0～61  60表示闰秒  61保留值\n",
    "    6       周几      tm_wday     0～6\n",
    "    7       第几天     tm_yday     1～366\n",
    "    8       夏令时     tm_isdst    0，1，-1（表示夏令时）\n"
   ]
  },
  {
   "cell_type": "code",
   "execution_count": 21,
   "metadata": {},
   "outputs": [],
   "source": [
    "# 使用前需要导入\n",
    "import time"
   ]
  },
  {
   "cell_type": "code",
   "execution_count": 23,
   "metadata": {},
   "outputs": [
    {
     "name": "stdout",
     "output_type": "stream",
     "text": [
      "-28800\n",
      "0\n"
     ]
    }
   ],
   "source": [
    "# 时间模块的属性\n",
    "# 函数timezone: 当前时区和UTC时间相差的秒数，在没有夏令时的情况下的间隔\n",
    "# 函数altzone:获取当前时区与UTC时间相差的秒数，在有夏令时的情况下\n",
    "# 函数daylight: 测当前是否是夏令时时间状态, 0 表示\"是\"\n",
    "print(time.timezone)\n",
    "print(time.daylight)"
   ]
  },
  {
   "cell_type": "code",
   "execution_count": 24,
   "metadata": {},
   "outputs": [
    {
     "data": {
      "text/plain": [
       "1557735335.3299165"
      ]
     },
     "execution_count": 24,
     "metadata": {},
     "output_type": "execute_result"
    }
   ],
   "source": [
    "# 得到时间戳\n",
    "time.time()"
   ]
  },
  {
   "cell_type": "code",
   "execution_count": 27,
   "metadata": {},
   "outputs": [
    {
     "name": "stdout",
     "output_type": "stream",
     "text": [
      "<class 'time.struct_time'>\n",
      "time.struct_time(tm_year=2019, tm_mon=5, tm_mday=13, tm_hour=16, tm_min=17, tm_sec=28, tm_wday=0, tm_yday=133, tm_isdst=0)\n",
      "16\n"
     ]
    }
   ],
   "source": [
    "# 函数localtime(): 得到当前时间的时间结构\n",
    "# 可以通过点号操作符得到相应的属性元素的内容\n",
    "t = time.localtime()\n",
    "print(type(t))\n",
    "print(t)\n",
    "print(t.tm_hour)"
   ]
  },
  {
   "cell_type": "code",
   "execution_count": 31,
   "metadata": {},
   "outputs": [
    {
     "name": "stdout",
     "output_type": "stream",
     "text": [
      "<class 'str'>\n",
      "Mon May 13 16:20:24 2019\n"
     ]
    }
   ],
   "source": [
    "# 函数asctime(): 返回元组的正常字符串化之后的时间格式 \n",
    "# 格式：time.asctime（时间元组）\n",
    "# 返回值:字符串 Tue Jun  6 11:11:00 2017\n",
    "t = time.localtime()\n",
    "t1 = time.asctime(t)\n",
    "print(type(t1))\n",
    "print(t1)"
   ]
  },
  {
   "cell_type": "code",
   "execution_count": 32,
   "metadata": {},
   "outputs": [
    {
     "name": "stdout",
     "output_type": "stream",
     "text": [
      "<class 'str'>\n",
      "Mon May 13 16:22:12 2019\n"
     ]
    }
   ],
   "source": [
    "# 函数ctime(): 获取字符串化的当前时间\n",
    "t = time.ctime()\n",
    "print(type(t))\n",
    "print(t)"
   ]
  },
  {
   "cell_type": "code",
   "execution_count": 33,
   "metadata": {},
   "outputs": [
    {
     "name": "stdout",
     "output_type": "stream",
     "text": [
      "<class 'float'>\n",
      "1557735797.0\n"
     ]
    }
   ],
   "source": [
    "# 函数mktime(): 使用时间元组获取对应的时间戳\n",
    "# 格式：time.mktime（时间元组）\n",
    "# 返回值：浮点数时间戳\n",
    "\n",
    "lt = time.localtime()\n",
    "ts = time.mktime(lt)\n",
    "print(type(ts))\n",
    "print(ts)"
   ]
  },
  {
   "cell_type": "code",
   "execution_count": 40,
   "metadata": {},
   "outputs": [
    {
     "name": "stdout",
     "output_type": "stream",
     "text": [
      "5891.523048161\n"
     ]
    },
    {
     "name": "stderr",
     "output_type": "stream",
     "text": [
      "E:\\Python\\anaconda\\lib\\site-packages\\ipykernel_launcher.py:2: DeprecationWarning: time.clock has been deprecated in Python 3.3 and will be removed from Python 3.8: use time.perf_counter or time.process_time instead\n",
      "  \n"
     ]
    }
   ],
   "source": [
    "# 函数clock(): 获取CPU时间，python3.0-3.3版本直接使用\n",
    "print(time.clock())"
   ]
  },
  {
   "cell_type": "code",
   "execution_count": 41,
   "metadata": {},
   "outputs": [
    {
     "name": "stdout",
     "output_type": "stream",
     "text": [
      "4.296875\n"
     ]
    }
   ],
   "source": [
    "print(time.process_time())"
   ]
  },
  {
   "cell_type": "code",
   "execution_count": 36,
   "metadata": {},
   "outputs": [
    {
     "name": "stdout",
     "output_type": "stream",
     "text": [
      "0\n",
      "1\n",
      "2\n",
      "3\n",
      "4\n",
      "5\n",
      "6\n",
      "7\n",
      "8\n",
      "9\n"
     ]
    }
   ],
   "source": [
    "# 函数sleep(): 使程序进入睡眠，n秒后继续   【常用函数】\n",
    "for i in range(10):\n",
    "    print(i)\n",
    "    time.sleep(1)"
   ]
  },
  {
   "cell_type": "code",
   "execution_count": 79,
   "metadata": {},
   "outputs": [
    {
     "name": "stdout",
     "output_type": "stream",
     "text": [
      "time.struct_time(tm_year=2019, tm_mon=5, tm_mday=14, tm_hour=8, tm_min=32, tm_sec=8, tm_wday=1, tm_yday=134, tm_isdst=0)\n"
     ]
    },
    {
     "ename": "UnicodeEncodeError",
     "evalue": "'locale' codec can't encode character '\\u5e74' in position 2: encoding error",
     "output_type": "error",
     "traceback": [
      "\u001b[1;31m---------------------------------------------------------------------------\u001b[0m",
      "\u001b[1;31mUnicodeEncodeError\u001b[0m                        Traceback (most recent call last)",
      "\u001b[1;32m<ipython-input-79-d544376ed966>\u001b[0m in \u001b[0;36m<module>\u001b[1;34m\u001b[0m\n\u001b[0;32m     28\u001b[0m \u001b[0mt\u001b[0m \u001b[1;33m=\u001b[0m \u001b[0mtime\u001b[0m\u001b[1;33m.\u001b[0m\u001b[0mlocaltime\u001b[0m\u001b[1;33m(\u001b[0m\u001b[1;33m)\u001b[0m\u001b[1;33m\u001b[0m\u001b[1;33m\u001b[0m\u001b[0m\n\u001b[0;32m     29\u001b[0m \u001b[0mprint\u001b[0m\u001b[1;33m(\u001b[0m\u001b[0mt\u001b[0m\u001b[1;33m)\u001b[0m\u001b[1;33m\u001b[0m\u001b[1;33m\u001b[0m\u001b[0m\n\u001b[1;32m---> 30\u001b[1;33m \u001b[0mft\u001b[0m \u001b[1;33m=\u001b[0m \u001b[0mtime\u001b[0m\u001b[1;33m.\u001b[0m\u001b[0mstrftime\u001b[0m\u001b[1;33m(\u001b[0m\u001b[1;34m\"%Y年%m月%d日 %H:%M\"\u001b[0m\u001b[1;33m,\u001b[0m\u001b[0mt\u001b[0m\u001b[1;33m)\u001b[0m\u001b[1;33m\u001b[0m\u001b[1;33m\u001b[0m\u001b[0m\n\u001b[0m\u001b[0;32m     31\u001b[0m \u001b[0mprint\u001b[0m\u001b[1;33m(\u001b[0m\u001b[0mft\u001b[0m\u001b[1;33m)\u001b[0m\u001b[1;33m\u001b[0m\u001b[1;33m\u001b[0m\u001b[0m\n",
      "\u001b[1;31mUnicodeEncodeError\u001b[0m: 'locale' codec can't encode character '\\u5e74' in position 2: encoding error"
     ]
    }
   ],
   "source": [
    "# 函数strftime(): 将时间元组转化为自定义的字符串格式\n",
    "'''\n",
    "格式  含义         备注\n",
    "%a  本地（locale） 简化星期名称    \n",
    "%A  本地完整星期名称    \n",
    "%b  本地简化月份名称    \n",
    "%B  本地完整月份名称    \n",
    "%c  本地相应的日期和时间表示    \n",
    "%d  一个月中的第几天（01 - 31）   \n",
    "%H  一天中的第几个小时（24 小时制，00 - 23）   \n",
    "%I  一天中的第几个小时（12 小时制，01 - 12）   \n",
    "%j  一年中的第几天（001 - 366）  \n",
    "%m  月份（01 - 12） \n",
    "%M  分钟数（00 - 59）    \n",
    "%p  本地 am 或者 pm 的相应符    注1\n",
    "%S  秒（01 - 61）  注2\n",
    "%U  一年中的星期数（00 - 53 星期天是一个星期的开始）第一个星期天之前的所有天数都放在第 0 周   注3\n",
    "%w  一个星期中的第几天（0 - 6，0 是星期天） 注3\n",
    "%W  和 %U 基本相同，不同的是 %W 以星期一为一个星期的开始  \n",
    "%x  本地相应日期  \n",
    "%X  本地相应时间  \n",
    "%y  去掉世纪的年份（00 - 99）    \n",
    "%Y  完整的年份   \n",
    "%z  用 +HHMM 或 -HHMM 表示距离格林威治的时区偏移（H 代表十进制的小时数，M 代表十进制的分钟数）      \n",
    "%%  %号本身\n",
    "'''\n",
    "# 把时间表示成： 2019年5月13日 16:40\n",
    "t = time.localtime()\n",
    "print(t)\n",
    "ft = time.strftime(\"%Y年%m月%d日 %H:%M\",t)\n",
    "print(ft)"
   ]
  },
  {
   "cell_type": "markdown",
   "metadata": {},
   "source": [
    "# datetime模块\n",
    "- datetime提供日期和时间的运算和表示"
   ]
  },
  {
   "cell_type": "code",
   "execution_count": 47,
   "metadata": {},
   "outputs": [],
   "source": [
    "import datetime"
   ]
  },
  {
   "cell_type": "code",
   "execution_count": 48,
   "metadata": {},
   "outputs": [
    {
     "name": "stdout",
     "output_type": "stream",
     "text": [
      "2019-05-13\n",
      "13\n",
      "2019\n",
      "5\n"
     ]
    }
   ],
   "source": [
    "# datetime常见属性\n",
    "# datetime.date: 一个理想和的日期，提供year, month, day属性\n",
    "dt = datetime.date(2019, 5,13)\n",
    "print(dt)\n",
    "print(dt.day)\n",
    "print(dt.year)\n",
    "print(dt.month)\n",
    "\n",
    "# datetime.time: 提供一个理想和的时间， 居于哦hour， minute，sec，microsec等内容\n",
    "# datetime.datetime: 提供日期跟时间的组合\n",
    "# datetime.timedelta: 提供一个时间差，时间长度"
   ]
  },
  {
   "cell_type": "code",
   "execution_count": 54,
   "metadata": {},
   "outputs": [
    {
     "name": "stdout",
     "output_type": "stream",
     "text": [
      "2019-05-13 16:55:16.151037\n",
      "2019-05-13 16:55:16.151037\n",
      "2019-05-13 16:55:16.151037\n"
     ]
    }
   ],
   "source": [
    "# datetime.datetime\n",
    "from datetime import datetime\n",
    "# 常用类方法：\n",
    "# today： \n",
    "# now\n",
    "# utcnow\n",
    "# fromtimestamp： 从时间戳中返回本地时间\n",
    "dt = datetime(2019, 5, 13)\n",
    "print(dt.today())\n",
    "print(dt.now())\n",
    "print(dt.fromtimestamp(time.time()))"
   ]
  },
  {
   "cell_type": "code",
   "execution_count": 58,
   "metadata": {},
   "outputs": [
    {
     "name": "stdout",
     "output_type": "stream",
     "text": [
      "2019-05-13 16:57:35.901114\n",
      "2019-05-13 16:57:35\n"
     ]
    }
   ],
   "source": [
    "# datetime.timedelta\n",
    "# 表示一个时间间隔\n",
    "\n",
    "from datetime import datetime,timedelta\n",
    "t1 = datetime.now()\n",
    "print(t1)\n",
    "print( t1.strftime(\"%Y-%m-%d %H:%M:%S\"))\n",
    "# td表示以小时的时间长度\n",
    "td = timedelta(hours=1)\n",
    "# 当前时间加上时间间隔后，把得到的一个小时后的时间格式化输出\n",
    "print( (t1+td).strftime(\"%Y-%m-%d %H:%M:%S\"))"
   ]
  },
  {
   "cell_type": "markdown",
   "metadata": {},
   "source": [
    "# timeit模块 \n",
    "- 时间测量工具"
   ]
  },
  {
   "cell_type": "code",
   "execution_count": 63,
   "metadata": {},
   "outputs": [
    {
     "name": "stdout",
     "output_type": "stream",
     "text": [
      "3.6001744270324707\n"
     ]
    }
   ],
   "source": [
    "# 测量程序运行时间间隔实验\n",
    "def p():\n",
    "    time.sleep(3.6)\n",
    "    \n",
    "t1 = time.time()\n",
    "p()\n",
    "print(time.time() - t1)"
   ]
  },
  {
   "cell_type": "code",
   "execution_count": 64,
   "metadata": {},
   "outputs": [
    {
     "name": "stdout",
     "output_type": "stream",
     "text": [
      "7.4006175330005135\n",
      "13.942384332999609\n"
     ]
    }
   ],
   "source": [
    "import timeit\n",
    "# 生成列表两种方法的比较\n",
    "# 如果单纯比较生成一个列表的时间，可能很难实现\n",
    "c = '''\n",
    "sum = []\n",
    "for i in range(1000):\n",
    "    sum.append(i)\n",
    "'''\n",
    " \n",
    "# 利用timeit调用代码，执行100000次，查看运行时间\n",
    "t1= timeit.timeit(stmt=\"[i for i in range(1000)]\", number=100000 )\n",
    "# 测量代码c执行100000次运行结果\n",
    "t2 = timeit.timeit(stmt=c, number=100000)\n",
    "print(t1)\n",
    "print(t2)"
   ]
  },
  {
   "cell_type": "code",
   "execution_count": 65,
   "metadata": {},
   "outputs": [
    {
     "name": "stdout",
     "output_type": "stream",
     "text": [
      "Help on function timeit in module timeit:\n",
      "\n",
      "timeit(stmt='pass', setup='pass', timer=<built-in function perf_counter>, number=1000000, globals=None)\n",
      "    Convenience function to create Timer object and call timeit method.\n",
      "\n"
     ]
    }
   ],
   "source": [
    "help(timeit.timeit)"
   ]
  },
  {
   "cell_type": "code",
   "execution_count": 71,
   "metadata": {},
   "outputs": [
    {
     "name": "stdout",
     "output_type": "stream",
     "text": [
      "Repeat for 0\n",
      "Repeat for 1\n",
      "Repeat for 2\n",
      "Repeat for 0\n",
      "Repeat for 1\n",
      "Repeat for 2\n",
      "Repeat for 0\n",
      "Repeat for 1\n",
      "Repeat for 2\n",
      "Repeat for 0\n",
      "Repeat for 1\n",
      "Repeat for 2\n",
      "Repeat for 0\n",
      "Repeat for 1\n",
      "Repeat for 2\n",
      "Repeat for 0\n",
      "Repeat for 1\n",
      "Repeat for 2\n",
      "Repeat for 0\n",
      "Repeat for 1\n",
      "Repeat for 2\n",
      "Repeat for 0\n",
      "Repeat for 1\n",
      "Repeat for 2\n",
      "Repeat for 0\n",
      "Repeat for 1\n",
      "Repeat for 2\n",
      "Repeat for 0\n",
      "Repeat for 1\n",
      "Repeat for 2\n",
      "0.005064927001512842\n"
     ]
    }
   ],
   "source": [
    "# timeit 可以执行一个函数，来测量一个函数的执行时间 \n",
    "def doIt():\n",
    "    num = 3\n",
    "    for i in range(num):\n",
    "        print(\"Repeat for {0}\".format(i))\n",
    "        \n",
    "# 执行函数，重复10次\n",
    "t = timeit.timeit(stmt=doIt, number=10)\n",
    "print(t)"
   ]
  },
  {
   "cell_type": "code",
   "execution_count": 69,
   "metadata": {},
   "outputs": [
    {
     "name": "stdout",
     "output_type": "stream",
     "text": [
      "Repeat for 0\n",
      "Repeat for 1\n",
      "Repeat for 2\n",
      "Repeat for 0\n",
      "Repeat for 1\n",
      "Repeat for 2\n",
      "Repeat for 0\n",
      "Repeat for 1\n",
      "Repeat for 2\n",
      "Repeat for 0\n",
      "Repeat for 1\n",
      "Repeat for 2\n",
      "Repeat for 0\n",
      "Repeat for 1\n",
      "Repeat for 2\n",
      "Repeat for 0\n",
      "Repeat for 1\n",
      "Repeat for 2\n",
      "Repeat for 0\n",
      "Repeat for 1\n",
      "Repeat for 2\n",
      "Repeat for 0\n",
      "Repeat for 1\n",
      "Repeat for 2\n",
      "Repeat for 0\n",
      "Repeat for 1\n",
      "Repeat for 2\n",
      "Repeat for 0\n",
      "Repeat for 1\n",
      "Repeat for 2\n",
      "0.0034267500013811514\n"
     ]
    }
   ],
   "source": [
    "s = '''\n",
    "def doIt(num):\n",
    "    for i in range(num):\n",
    "        print(\"Repeat for {0}\".format(i))\n",
    "'''\n",
    "\n",
    "# 执行doIt(num)\n",
    "# setup负责把环境变量准备好\n",
    "# 在创作的小环境中， 代码执行的顺序大致是:\n",
    "'''\n",
    "def doIt(num):\n",
    "    ......\n",
    "\n",
    "num = 3\n",
    "\n",
    "doIt(num)\n",
    "'''\n",
    "t = timeit.timeit(\"doIt(num)\",setup = s+\"num=3\",number=10)\n",
    "print(t)"
   ]
  },
  {
   "cell_type": "markdown",
   "metadata": {},
   "source": [
    "# datetime.datetime模块\n",
    "- 提供比较好用的时间而已\n",
    "- 类定义\n",
    "    \n",
    "        class datetime.datetime(year, month, day[, hour\n",
    "          [, minute\n",
    "          [, second\n",
    "          [, microsecond\n",
    "          [, tzinfo]]]]])\n",
    "        # The year, month and day arguments are required.\n",
    "        MINYEAR <= year <= MAXYEAR\n",
    "        1 <= month <= 12\n",
    "        1 <= day <= n\n",
    "        0 <= hour < 24\n",
    "        0 <= minute < 60\n",
    "        0 <= second < 60\n",
    "        0 <= microsecond < 10**\n",
    "        \n",
    "- 类方法\n",
    "\n",
    "`\n",
    "datetime.today(): 返回当前本地datetime.随着 tzinfo None. datetime.fromtimestamp(time.time()). \n",
    "datetime.now([tz]): 返回当前本地日期和时间, 如果可选参数tz为None或没有详细说明,这个方法会像today(). \n",
    "datetime.utcnow(): 返回当前的UTC日期和时间, 如果tzinfo None ,那么与now()类似. \n",
    "datetime.fromtimestamp(timestamp[, tz]): 根据时间戳返回本地的日期和时间.tz指定时区. \n",
    "datetime.utcfromtimestamp(timestamp): 根据时间戳返回 UTC datetime. datetime.fromordinal(ordinal): 根据Gregorian ordinal 返回datetime. datetime.combine(date, time): 根据date和time返回一个新的datetime. datetime.strptime(date_string, format): 根据date_string和format返回一个datetime.\n",
    "\n",
    "实例方法\n",
    "\n",
    "datetime.date(): 返回相同年月日的date对象. \n",
    "datetime.time(): 返回相同时分秒微秒的time对象. \n",
    "datetime.replace(kw): kw in [year, month, day, hour, minute, second, microsecond, tzinfo], 与date类似. 类属性\n",
    "\n",
    "datetime.min: datetime(MINYEAR, 1, 1). datetime.max: datetime(MAXYEAR, 12, 31, 23, 59, 59, 999999).\n",
    "\n",
    "实例属性(read-only)\n",
    "\n",
    "datetime.year: 1 至 9999 \n",
    "datetime.month: 1 至 12 datetime.day: 1 至 n \n",
    "datetime.hour: In range(24). 0 至 23 \n",
    "datetime.minute: In range(60). datetime.second: In range(60). datetime.microsecond: In range(1000000). `"
   ]
  },
  {
   "cell_type": "code",
   "execution_count": 81,
   "metadata": {},
   "outputs": [
    {
     "name": "stdout",
     "output_type": "stream",
     "text": [
      "2019-05-14 14:42:46.581378\n"
     ]
    }
   ],
   "source": [
    "from datetime import datetime as dt\n",
    "print(dt.now())"
   ]
  },
  {
   "cell_type": "markdown",
   "metadata": {},
   "source": [
    "# os - 操作系统相关\n",
    "- 跟操作系统相关，主要是文件操作\n",
    "- 与系统相关的操作，主要包含在三个模块里\n",
    "    - os, 操作系统目录相关\n",
    "    - os.path, 系统路径相关操作\n",
    "    - shutil, 高级文件操作，目录树的操作，文件赋值，删除，移动\n",
    "- 路径：\n",
    "    - 绝对路径： 总是从根目录上开始\n",
    "    - 相对路径： 基本以当前环境为开始的一个相对的地方\n"
   ]
  },
  {
   "cell_type": "markdown",
   "metadata": {},
   "source": [
    "# OS模块"
   ]
  },
  {
   "cell_type": "code",
   "execution_count": 84,
   "metadata": {},
   "outputs": [],
   "source": [
    "import os"
   ]
  },
  {
   "cell_type": "code",
   "execution_count": 85,
   "metadata": {},
   "outputs": [
    {
     "name": "stdout",
     "output_type": "stream",
     "text": [
      "C:\\Users\\Administrator\\python\n"
     ]
    }
   ],
   "source": [
    "# getcwd() 获取当前的工作目录\n",
    "# 格式：os.getcwd()\n",
    "# 返回值：当前工作目录的字符串\n",
    "# 当前工作目录就是程序在进行文件相关操作，默认查找文件的目录\n",
    "\n",
    "mydir = os.getcwd()\n",
    "print(mydir)"
   ]
  },
  {
   "cell_type": "code",
   "execution_count": 47,
   "metadata": {},
   "outputs": [
    {
     "name": "stdout",
     "output_type": "stream",
     "text": [
      "C:\\Users\\Administrator\\python\n"
     ]
    }
   ],
   "source": [
    "# chdir() 改变当前的工作目录\n",
    "# change directory\n",
    "#  格式：os.chdir（路径）\n",
    "#  返回值：无\n",
    "\n",
    "os.chdir('/Users/Administrator/python/')\n",
    "mydir = os.getcwd()\n",
    "print(mydir)"
   ]
  },
  {
   "cell_type": "code",
   "execution_count": 91,
   "metadata": {},
   "outputs": [
    {
     "name": "stdout",
     "output_type": "stream",
     "text": [
      "['.ipynb_checkpoints', '06-常用模块.ipynb', '1-python基础', '2-包管理', '3-异常处理.ipynb', 'Untitled.ipynb']\n"
     ]
    }
   ],
   "source": [
    "# listdir() 获取一个目录中所有子目录和文件的名称列表\n",
    "#  格式:os.listdir(路径)\n",
    "#  返回值：所有子目录和文件名称的列表\n",
    "\n",
    "ld = os.listdir()\n",
    "print(ld)"
   ]
  },
  {
   "cell_type": "code",
   "execution_count": 93,
   "metadata": {},
   "outputs": [
    {
     "name": "stdout",
     "output_type": "stream",
     "text": [
      "None\n"
     ]
    }
   ],
   "source": [
    "# makedirs（） 递归创建文件夹\n",
    "# 格式：os.makedirs(递归路径)\n",
    "# 返回值：无\n",
    "#  递归路径：多个文件夹层层包含的路径就是递归路径 例如 a/b/c...\n",
    "\n",
    "rst = os.makedirs(\"dana\")\n",
    "print(rst)"
   ]
  },
  {
   "cell_type": "code",
   "execution_count": 94,
   "metadata": {},
   "outputs": [
    {
     "name": "stdout",
     "output_type": "stream",
     "text": [
      "1\n",
      "1\n"
     ]
    }
   ],
   "source": [
    "# system() 运行系统shell命令  linux示例：\n",
    "# 格式：os.system(系统命令)\n",
    "#  返回值：打开一个shell或者终端界面\n",
    "# 一般推荐使用subprocess代替\n",
    "\n",
    "# ls是列出当前文件和文件夹的系统命令\n",
    "rst = os.system(\"ls\")\n",
    "print(rst)\n",
    "\n",
    "# 在当前目录下创建一个dana.haha 的文件，\n",
    "# 结果为0表示执行成功，为1表示执行失败。此处由于是windows系统，所以执行失败\n",
    "rst = os.system(\"touch dana.test\")\n",
    "print(rst)"
   ]
  },
  {
   "cell_type": "code",
   "execution_count": 95,
   "metadata": {},
   "outputs": [
    {
     "name": "stdout",
     "output_type": "stream",
     "text": [
      "E:\\Python\\anaconda;E:\\Python\\anaconda\\Library\\mingw-w64\\bin;E:\\Python\\anaconda\\Library\\usr\\bin;E:\\Python\\anaconda\\Library\\bin;E:\\Python\\anaconda\\Scripts;E:\\Python\\anaconda;E:\\Python\\anaconda\\Library\\mingw-w64\\bin;E:\\Python\\anaconda\\Library\\usr\\bin;E:\\Python\\anaconda\\Library\\bin;E:\\Python\\anaconda\\Scripts;C:\\WINDOWS\\system32;C:\\WINDOWS;C:\\WINDOWS\\System32\\Wbem;C:\\WINDOWS\\System32\\WindowsPowerShell\\v1.0\\;E:\\java\\jdk1.6.0_45\\bin;E:\\Python\\python程序\\Scripts\\;E:\\Python\\python程序\\;C:\\Users\\Administrator\\AppData\\Local\\Microsoft\\WindowsApps;\n"
     ]
    }
   ],
   "source": [
    "#getenv() 获取指定的系统环境变量值\n",
    "# 相应的还有putenv\n",
    "#  格式：os.getenv('环境变量名')\n",
    "#  返回值：指定环境变量名对应的值\n",
    "rst = os.getenv(\"PATH\")\n",
    "print(rst)"
   ]
  },
  {
   "cell_type": "code",
   "execution_count": 1,
   "metadata": {},
   "outputs": [],
   "source": [
    "# exit() 退出当前程序\n",
    "#  格式：exit()\n",
    "#  返回值:无"
   ]
  },
  {
   "cell_type": "markdown",
   "metadata": {},
   "source": [
    "# 值部分\n",
    "- os.curdir: curretn dir,当前目录\n",
    "- os.pardir: parent dir， 父目录\n",
    "- os.sep: 当前系统的路径分隔符\n",
    "    - windows: \"\\\"\n",
    "    - linux: \"/\"\n",
    "- os.linesep: 当前系统的换行符号\n",
    "    - windows: \"\\r\\n\"\n",
    "    - unix,linux,macos: \"\\n\"\n",
    "- os.name： 当前系统名称\n",
    "    - windows： nt\n",
    "    - mac，unix，linux： posix"
   ]
  },
  {
   "cell_type": "code",
   "execution_count": 13,
   "metadata": {},
   "outputs": [
    {
     "name": "stdout",
     "output_type": "stream",
     "text": [
      "C:\\Users\\Administrator\\python\n"
     ]
    }
   ],
   "source": [
    "import os\n",
    "print(os.getcwd())"
   ]
  },
  {
   "cell_type": "code",
   "execution_count": 14,
   "metadata": {},
   "outputs": [
    {
     "name": "stdout",
     "output_type": "stream",
     "text": [
      ".\n",
      "..\n"
     ]
    }
   ],
   "source": [
    "print(os.curdir)\n",
    "print(os.pardir)"
   ]
  },
  {
   "cell_type": "code",
   "execution_count": 5,
   "metadata": {},
   "outputs": [
    {
     "name": "stdout",
     "output_type": "stream",
     "text": [
      "\\\n"
     ]
    }
   ],
   "source": [
    "print(os.sep)"
   ]
  },
  {
   "cell_type": "code",
   "execution_count": 6,
   "metadata": {},
   "outputs": [
    {
     "name": "stdout",
     "output_type": "stream",
     "text": [
      "\r\n",
      "\n"
     ]
    }
   ],
   "source": [
    "print(os.linesep)"
   ]
  },
  {
   "cell_type": "code",
   "execution_count": 8,
   "metadata": {},
   "outputs": [
    {
     "name": "stdout",
     "output_type": "stream",
     "text": [
      "nt\n"
     ]
    }
   ],
   "source": [
    "print(os.name)"
   ]
  },
  {
   "cell_type": "code",
   "execution_count": 12,
   "metadata": {},
   "outputs": [],
   "source": [
    "# 在路径相关的操作中，不要手动拼写，因为手动拼写的路径可能不具有移植性\n",
    "# path = \"/Users/Administrator/python\" + \"/\" + \"dana\"\n",
    "# print(path)"
   ]
  },
  {
   "cell_type": "markdown",
   "metadata": {},
   "source": [
    "# os.path 模块，与路径相关的模块\n"
   ]
  },
  {
   "cell_type": "code",
   "execution_count": 18,
   "metadata": {},
   "outputs": [],
   "source": [
    "import os.path as op"
   ]
  },
  {
   "cell_type": "code",
   "execution_count": 19,
   "metadata": {},
   "outputs": [
    {
     "name": "stdout",
     "output_type": "stream",
     "text": [
      "C:\\Users\\Administrator\\python\n"
     ]
    }
   ],
   "source": [
    "# abspath(): 将路径转化为绝对路径 abslute\n",
    "# 格式： os.path.abspath('路径')\n",
    "# 返回值：路径的绝对路径表示\n",
    "# Linux中， . 表示当前目录； .. 回到上一级目录\n",
    "\n",
    "absp = op.abspath('.')\n",
    "print(absp)"
   ]
  },
  {
   "cell_type": "code",
   "execution_count": 41,
   "metadata": {},
   "outputs": [
    {
     "name": "stdout",
     "output_type": "stream",
     "text": [
      "python\n",
      "test1.txt\n"
     ]
    }
   ],
   "source": [
    "# basename(): 获取路径中的文件名部分\n",
    "#  格式:os.path.basename(路径)\n",
    "#  返回值：文件名字符串\n",
    "\n",
    "bn = op.basename(\"/Users/Administrator/python\")\n",
    "print(bn)\n",
    "bn = op.basename(\"/Users/Administrator/python/test1.txt\")\n",
    "print(bn)"
   ]
  },
  {
   "cell_type": "code",
   "execution_count": 42,
   "metadata": {},
   "outputs": [
    {
     "name": "stdout",
     "output_type": "stream",
     "text": [
      "/Users/Administrator/python/3-异常处理.ipynb\n"
     ]
    }
   ],
   "source": [
    "# join() 将多个路径拼合成一个路径\n",
    "#  格式：os.path.join(路径1，路径2....)\n",
    "#  返回值：组合之后的新路径字符串\n",
    "\n",
    "bd = \"/Users/Administrator/python/\"\n",
    "fn = \"3-异常处理.ipynb\"\n",
    "\n",
    "p = op.join(bd, fn)\n",
    "print(p)"
   ]
  },
  {
   "cell_type": "code",
   "execution_count": 44,
   "metadata": {},
   "outputs": [
    {
     "name": "stdout",
     "output_type": "stream",
     "text": [
      "('/Users/Administrator/python', '3-异常处理.ipynb')\n",
      "/Users/Administrator/python 3-异常处理.ipynb\n"
     ]
    }
   ],
   "source": [
    "# split() 将路径切割为文件夹部分和当前文件部分\n",
    "#  格式:os.path.split（路径）\n",
    "#  返回值：路径和文件名组成的元组\n",
    "\n",
    "t = op.split(\"/Users/Administrator/python/3-异常处理.ipynb\")\n",
    "print(t)\n",
    "\n",
    "d,p = op.split(\"/Users/Administrator/python/3-异常处理.ipynb\")\n",
    "print(d, p)"
   ]
  },
  {
   "cell_type": "code",
   "execution_count": 45,
   "metadata": {},
   "outputs": [
    {
     "data": {
      "text/plain": [
       "False"
      ]
     },
     "execution_count": 45,
     "metadata": {},
     "output_type": "execute_result"
    }
   ],
   "source": [
    "# isdir（） 检测是否是目录\n",
    "#  格式：os.path.isdir(路径)\n",
    "#  返回值：布尔值\n",
    "\n",
    "rst = op.isdir(\"/Users/Administrator/python/3-异常处理.ipynb\")\n",
    "rst"
   ]
  },
  {
   "cell_type": "code",
   "execution_count": 46,
   "metadata": {},
   "outputs": [
    {
     "data": {
      "text/plain": [
       "True"
      ]
     },
     "execution_count": 46,
     "metadata": {},
     "output_type": "execute_result"
    }
   ],
   "source": [
    "# exists() 检测文件或者目录是否存在\n",
    "#  格式：os.path.exists(路径)\n",
    "#  返回值:布尔值\n",
    "\n",
    "e = op.exists(\"/Users/Administrator/python/3-异常处理.ipynb\")\n",
    "e"
   ]
  },
  {
   "cell_type": "markdown",
   "metadata": {},
   "source": [
    "# shutil 模块"
   ]
  },
  {
   "cell_type": "code",
   "execution_count": 30,
   "metadata": {},
   "outputs": [],
   "source": [
    "import shutil"
   ]
  },
  {
   "cell_type": "code",
   "execution_count": 33,
   "metadata": {},
   "outputs": [
    {
     "name": "stdout",
     "output_type": "stream",
     "text": [
      "test1.txt\n"
     ]
    }
   ],
   "source": [
    "# copy() 复制文件\n",
    "#  格式：shutil.copy(来源路径，目标路径)\n",
    "#  返回值：返回目标路径\n",
    "# 拷贝的同时，可以给文件重命名\n",
    "\n",
    "rst = shutil.copy(\"test.txt\", \"test1.txt\")\n",
    "print(rst)"
   ]
  },
  {
   "cell_type": "code",
   "execution_count": 36,
   "metadata": {},
   "outputs": [],
   "source": [
    "# copy2() 复制文件，保留元数据（文件信息）\n",
    "#  格式：shutil.copy2(来源路径，目标路径)\n",
    "#  返回值：返回目标路径\n",
    "#  注意：copy和copy2的唯一区别在于copy2复制文件时尽量保留元数据"
   ]
  },
  {
   "cell_type": "code",
   "execution_count": 37,
   "metadata": {},
   "outputs": [
    {
     "name": "stdout",
     "output_type": "stream",
     "text": [
      "test1.txt\n"
     ]
    }
   ],
   "source": [
    "# copyfile()将一个文件中的内容复制到另外一个文件当中\n",
    "# 格式：shutil.copyfile（'源路径','目标路径')\n",
    "# 返回值：无\n",
    "\n",
    "rst = shutil.copyfile(\"test.txt\", \"test1.txt\")\n",
    "print(rst)"
   ]
  },
  {
   "cell_type": "code",
   "execution_count": 38,
   "metadata": {},
   "outputs": [
    {
     "name": "stdout",
     "output_type": "stream",
     "text": [
      "/Users/Administrator/python/dana/test.txt\n"
     ]
    }
   ],
   "source": [
    "# move() 移动文件/文件夹\n",
    "#  格式：shutil.move(源路径，目标路径)\n",
    "#  返回值：目标路径！\n",
    "rst  = shutil.move(\"test.txt\", \"/Users/Administrator/python/dana/\")\n",
    "print(rst)"
   ]
  },
  {
   "cell_type": "markdown",
   "metadata": {},
   "source": [
    "# 归档和压缩\n",
    "- 归档： 把多个文件或者文件夹合并到一个文件当中\n",
    "- 压缩： 用算法把多个文件或者文件夹无损或者有损合并到一个文件当中"
   ]
  },
  {
   "cell_type": "code",
   "execution_count": 48,
   "metadata": {},
   "outputs": [
    {
     "name": "stdout",
     "output_type": "stream",
     "text": [
      "C:\\Users\\Administrator\\python\\dana.zip\n"
     ]
    }
   ],
   "source": [
    "# make_archive(): 归档操作\n",
    "# 格式:shutil.make_archive('归档之后的目录和文件名','后缀','需要归档的文件夹')\n",
    "# 返回值：归档之后的地址\n",
    "\n",
    "# help(shutil.make_archive)\n",
    "\n",
    "# 下例得到一个叫dana.zip的归档文件\n",
    "rst = shutil.make_archive(\"/Users/Administrator/python/dana\", \"zip\", \"/Users/Administrator/python/dana/\")\n",
    "print(rst)"
   ]
  },
  {
   "cell_type": "code",
   "execution_count": 49,
   "metadata": {},
   "outputs": [],
   "source": [
    "# unpack_archive() 解包操作\n",
    "# 格式：shutil.unpack_archive('归档文件地址','解包之后的地址')\n",
    "# 返回值：解包之后的地址"
   ]
  },
  {
   "cell_type": "markdown",
   "metadata": {},
   "source": [
    "# zip- 压缩包\n",
    "- 模块名称叫 zipfile"
   ]
  },
  {
   "cell_type": "code",
   "execution_count": 50,
   "metadata": {},
   "outputs": [],
   "source": [
    "import zipfile"
   ]
  },
  {
   "cell_type": "code",
   "execution_count": 51,
   "metadata": {},
   "outputs": [],
   "source": [
    "# zipfile.ZipFile(file[, mode[, compression[, allowZip64]]])\n",
    "# 创建一个ZipFile对象，表示一个zip文件。参数file表示文件的路径或类文件对象(file-like object)；参数mode指示打开zip文件的模式，默认值为’r’，表示读已经存在的zip文件，也可以为’w’或’a’，’w’表示新建一个zip文档或覆盖一个已经存在的zip文档，’a’表示将数据附加到一个现存的zip文档中。参数compression表示在写zip文档时使用的压缩方法，它的值可以是zipfile. ZIP_STORED 或zipfile. ZIP_DEFLATED。如果要操作的zip文件大小超过2G，应该将allowZip64设置为True。\n",
    "\n",
    "zf = zipfile.ZipFile(\"/Users/Administrator/python/dana.zip\")"
   ]
  },
  {
   "cell_type": "code",
   "execution_count": 52,
   "metadata": {},
   "outputs": [
    {
     "name": "stdout",
     "output_type": "stream",
     "text": [
      "<ZipInfo filename='test.txt' compress_type=deflate filemode='-rw-rw-rw-' file_size=0 compress_size=2>\n"
     ]
    }
   ],
   "source": [
    "# ZipFile.getinfo(name):\n",
    "# 获取zip文档内指定文件的信息。返回一个zipfile.ZipInfo对象，它包括文件的详细信息。将在下面 具体介绍该对象。\n",
    "\n",
    "rst = zf.getinfo(\"test.txt\")\n",
    "print(rst)"
   ]
  },
  {
   "cell_type": "code",
   "execution_count": 53,
   "metadata": {},
   "outputs": [
    {
     "name": "stdout",
     "output_type": "stream",
     "text": [
      "['test.txt']\n"
     ]
    }
   ],
   "source": [
    "# ZipFile.namelist()\n",
    "# 获取zip文档内所有文件的名称列表。\n",
    "\n",
    "nl = zf.namelist()\n",
    "print(nl)"
   ]
  },
  {
   "cell_type": "code",
   "execution_count": 55,
   "metadata": {},
   "outputs": [
    {
     "name": "stdout",
     "output_type": "stream",
     "text": [
      "None\n"
     ]
    }
   ],
   "source": [
    "# ZipFile.extractall([path[, members[, pwd]]])\n",
    "# 解压zip文档中的所有文件到当前目录。参数members的默认值为zip文档内的所有文件名称列表，也可以自己设置，选择要解压的文件名称。\n",
    "\n",
    "rst = zf.extractall(\"/Users/Administrator/python/dana/\")\n",
    "print(rst)"
   ]
  },
  {
   "cell_type": "markdown",
   "metadata": {},
   "source": [
    "#  random\n",
    "- 随机数\n",
    "- 所有的随机模块都是伪随机"
   ]
  },
  {
   "cell_type": "code",
   "execution_count": 56,
   "metadata": {},
   "outputs": [],
   "source": [
    "import random"
   ]
  },
  {
   "cell_type": "code",
   "execution_count": 63,
   "metadata": {},
   "outputs": [
    {
     "name": "stdout",
     "output_type": "stream",
     "text": [
      "0.9602107727738175\n"
     ]
    }
   ],
   "source": [
    "# random(): 获取0-1之间的随机小数\n",
    "# 格式：random.random()\n",
    "# 返回值：随机0-1之间的小数\n",
    "\n",
    "print(random.random())\n",
    "\n",
    "# 利用random函数，注意是函数，生成0-100之间的整数"
   ]
  },
  {
   "cell_type": "code",
   "execution_count": 64,
   "metadata": {},
   "outputs": [
    {
     "name": "stdout",
     "output_type": "stream",
     "text": [
      "15\n"
     ]
    }
   ],
   "source": [
    "rst = (random.random())* 100\n",
    "print(int(rst))"
   ]
  },
  {
   "cell_type": "code",
   "execution_count": 61,
   "metadata": {},
   "outputs": [
    {
     "name": "stdout",
     "output_type": "stream",
     "text": [
      "['0yueyue', '1yueyue', '2yueyue', '3yueyue', '4yueyue', '5yueyue', '6yueyue', '7yueyue', '8yueyue', '9yueyue']\n",
      "9yueyue\n"
     ]
    }
   ],
   "source": [
    "# choice(): 随机返回序列中的某个值\n",
    "# 格式：random.choice(序列)\n",
    "# 返回值：序列中的某个值\n",
    "\n",
    "l = [str(i)+\"yueyue\" for i in range(10)]\n",
    "print(l)\n",
    "rst = random.choice(l)\n",
    "print(rst)"
   ]
  },
  {
   "cell_type": "code",
   "execution_count": 69,
   "metadata": {},
   "outputs": [
    {
     "name": "stdout",
     "output_type": "stream",
     "text": [
      "[0, 1, 2, 3, 4, 5, 6, 7, 8, 9]\n",
      "[9, 2, 0, 5, 3, 8, 4, 6, 7, 1]\n"
     ]
    }
   ],
   "source": [
    "# shuffle() 随机打乱列表\n",
    "# 格式：random.shuffle(列表)\n",
    "# 返回值：打乱顺序之后的列表\n",
    "\n",
    "a = [i for i in range(10)]\n",
    "print(a)\n",
    "\n",
    "random.shuffle(a)\n",
    "print(a)"
   ]
  },
  {
   "cell_type": "code",
   "execution_count": 70,
   "metadata": {},
   "outputs": [
    {
     "name": "stdout",
     "output_type": "stream",
     "text": [
      "54\n"
     ]
    }
   ],
   "source": [
    "# randint(a,b): 返回一个a到b之间的随机整数，包含a和b\n",
    "\n",
    "print(random.randint(0,100))"
   ]
  },
  {
   "cell_type": "code",
   "execution_count": 72,
   "metadata": {
    "scrolled": true
   },
   "outputs": [
    {
     "name": "stdout",
     "output_type": "stream",
     "text": [
      "Help on method randint in module random:\n",
      "\n",
      "randint(a, b) method of random.Random instance\n",
      "    Return random integer in range [a, b], including both end points.\n",
      "\n"
     ]
    }
   ],
   "source": [
    "help(random.randint)"
   ]
  },
  {
   "cell_type": "code",
   "execution_count": null,
   "metadata": {},
   "outputs": [],
   "source": []
  }
 ],
 "metadata": {
  "kernelspec": {
   "display_name": "Python 3",
   "language": "python",
   "name": "python3"
  },
  "language_info": {
   "codemirror_mode": {
    "name": "ipython",
    "version": 3
   },
   "file_extension": ".py",
   "mimetype": "text/x-python",
   "name": "python",
   "nbconvert_exporter": "python",
   "pygments_lexer": "ipython3",
   "version": "3.7.1"
  }
 },
 "nbformat": 4,
 "nbformat_minor": 2
}
